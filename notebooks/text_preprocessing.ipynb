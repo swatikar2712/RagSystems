{
 "cells": [
  {
   "cell_type": "code",
   "execution_count": 5,
   "id": "f7fcff46",
   "metadata": {},
   "outputs": [],
   "source": [
    "import tqdm as notebook_tqdm\n",
    "import numpy as np\n",
    "from dotenv import load_dotenv\n",
    "import os\n",
    "load_dotenv()\n",
    "pc_key = os.getenv(\"PINECONEDB\")"
   ]
  },
  {
   "cell_type": "code",
   "execution_count": 6,
   "id": "1480539f",
   "metadata": {},
   "outputs": [],
   "source": [
    "file_path = \"C:\\\\Users\\\\ARYAN SURI\\\\Desktop\\\\Amlgo Labs Assignment\\\\data\\\\AI Training Document.pdf\"\n"
   ]
  },
  {
   "cell_type": "markdown",
   "id": "ac64896e",
   "metadata": {},
   "source": [
    "## Loading document using Langchain document_loader"
   ]
  },
  {
   "cell_type": "code",
   "execution_count": 7,
   "id": "a31c86f6",
   "metadata": {},
   "outputs": [],
   "source": [
    "from langchain_community.document_loaders import PyPDFLoader\n",
    "\n",
    "loader = PyPDFLoader(file_path)\n",
    "docs = loader.load()"
   ]
  },
  {
   "cell_type": "code",
   "execution_count": 8,
   "id": "d9b1b5e9",
   "metadata": {},
   "outputs": [
    {
     "data": {
      "text/plain": [
       "[Document(metadata={'producer': 'Microsoft® Word 2016', 'creator': 'Microsoft® Word 2016', 'creationdate': '2025-06-18T14:59:12+05:30', 'author': 'Shivani Gupta', 'moddate': '2025-06-18T14:59:12+05:30', 'source': 'C:\\\\Users\\\\ARYAN SURI\\\\Desktop\\\\Amlgo Labs Assignment\\\\data\\\\AI Training Document.pdf', 'total_pages': 20, 'page': 0, 'page_label': '1'}, page_content='User Agreement \\n1. Introduction \\nThis User Agreement, the Mobile Application Terms of Use, and all policies and additional terms \\nposted on and in our sites, applications, tools, and services (collectively \"Services\") set out the terms \\non which eBay offers you access to and use of our Services. You can find an overview of our policies \\nhere. The Mobile Application Terms of Use, all policies, and additional terms posted on and in our \\nServices are incorporated into this User Agreement. You agree to comply with all terms of this User \\nAgreement when accessing or using our Services. \\nThe entity you are contracting with is: eBay Inc., 2025 Hamilton Ave., San Jose, CA 95125, if you \\nreside in the United States; eBay (UK) Limited, 1 More London Place, London, SE1 2AF, United \\nKingdom, if you reside in the United Kingdom; eBay GmbH, Albert-Einstein-Ring 2-6, 14532 \\nKleinmachnow, Germany, if you reside in the European Union; eBay Canada Limited, 240 Richmond \\nStreet West, 2nd Floor Suite 02-100, Toronto, ON, M5V 1V6, Canada, if you reside in Canada; eBay \\nSingapore Services Private Limited, 1 Raffles Quay, #18- 00, Singapore 048583, if you reside in India; \\nand eBay Marketplaces GmbH, Helvetiastrasse 15/17, CH-3005, Bern, Switzerland, if you reside in \\nany other country. In this User Agreement, these entities are individually and collectively referred to \\nas \"eBay,\" \"we,\" or \"us.\" \\nIf you reside in India and you register for our Services, you further agree to the eBay.in User \\nAgreement. \\nRead this User Agreement carefully as it contains provisions that govern how claims you and we have \\nagainst each other are resolved (see \"Disclaimer of Warranties; Limitation of Liability\" and \"Legal \\nDisputes\" provisions below). It also contains an Agreement to Arbitrate which will, with limited \\nexception, require you to submit claims you have against us or related third parties to binding and \\nfinal arbitration, unless you opt out of the Agreement to Arbitrate in accordance with section 19.B.9 \\n(see Legal Disputes, Section B (\"Agreement to Arbitrate\")). If you do not opt out: (1) you will only be \\npermitted to pursue claims against us or related third parties on an individual basis, not as a plaintiff \\nor class member in any class or representative action or proceeding; (2) you will only be permitted to \\nseek relief (including monetary, injunctive, and declaratory relief) on an individual basis; and (3) you \\nare waiving your right to pursue disputes or claims and seek relief in a court of law and to have a jury \\ntrial. \\n2. About eBay \\neBay is a marketplace that allows users to offer, sell, and buy goods and services in various \\ngeographic locations using a variety of pricing formats. eBay is not a party to contracts for sale \\nbetween third-party sellers and buyers, nor is eBay a traditional auctioneer. \\nAny guidance eBay provides as part of our Services, such as pricing, shipping, listing, and sourcing is \\nsolely informational and you may decide to follow it or not. We may use artificial intelligence or AI-\\npowered tools and products to provide and improve our Services, to offer you a customized and \\npersonalized experience, to provide you with enhanced customer service, and to support fraud \\ndetection; availability and accuracy of these tools are not guaranteed. We may help facilitate the \\nresolution of disputes between buyers and sellers through various programs. Unless otherwise \\nexpressly provided, eBay has no control over and does not guarantee: the existence, quality, safety, \\nor legality of items advertised; the truth or accuracy of users\\' content or listings; the ability of sellers'),\n",
       " Document(metadata={'producer': 'Microsoft® Word 2016', 'creator': 'Microsoft® Word 2016', 'creationdate': '2025-06-18T14:59:12+05:30', 'author': 'Shivani Gupta', 'moddate': '2025-06-18T14:59:12+05:30', 'source': 'C:\\\\Users\\\\ARYAN SURI\\\\Desktop\\\\Amlgo Labs Assignment\\\\data\\\\AI Training Document.pdf', 'total_pages': 20, 'page': 1, 'page_label': '2'}, page_content=\"to sell items; the ability of buyers to pay for items; or that a buyer or seller will actually complete a \\ntransaction or return an item. \\n3. Using eBay \\nIn connection with using or accessing our Services you agree to comply with this User Agreement, \\nour policies, our terms, and all applicable laws, rules, and regulations, and you will not: \\n• breach or circumvent any laws, regulations, third-party rights or our systems, Services, \\npolicies, or determinations of your account status; \\n• use our Services if you are not able to form legally binding contracts (for example, if you are \\nunder 18 years old), or are temporarily or indefinitely suspended from using our Services, or \\nare a person with whom transactions are prohibited under economic or trade sanctions; \\n• fail to pay for items purchased by you, unless you have a valid reason as set out in an eBay \\npolicy, for example, where the seller has materially changed the item's description after you \\nbid (see our Unpaid item policy); \\n• fail to deliver items sold by you, unless you have a valid reason as set out in an eBay policy; \\n• manipulate the price of any item or interfere with any other user's listings; \\n• fail to complete delivery, clear ownership, and/or complete\\u202fany other documentation \\nassociated with the sale or purchase of any vehicle; \\n• take any action that may undermine the feedback or ratings systems (our Feedback policies); \\n• transfer your eBay account (including feedback) and user ID to another party without our \\nconsent; \\n• share your log in credentials with any third parties. If you require that authorized third \\nparties (employees, agents, etc.) have access to your account we offer a Multi-User Account \\nAccess program for that purpose; \\n• create listings or provide us with content in inappropriate categories or areas of our sites; \\n• engage in gambling; \\n• provide us with content that is false, inaccurate, misleading, deceptive, defamatory, libelous, \\nillegal, inappropriate, harmful, or violates and/or infringes the rights of others; \\n• distribute or post spam, unsolicited or bulk electronic communications, chain letters, or \\npyramid schemes; \\n• distribute viruses or any other technologies that may harm eBay or the interests or property \\nof users; \\n• use any robot, spider, scraper, data mining tools, data gathering and extraction tools, or \\nother automated means to access our Services for any purpose, except with the prior \\nexpress permission of eBay; \\n• circumvent any technical measures used to provide our Services; \\n• interfere with the functioning of our Services, such as by imposing an unreasonable or \\ndisproportionately large load on our infrastructure;\"),\n",
       " Document(metadata={'producer': 'Microsoft® Word 2016', 'creator': 'Microsoft® Word 2016', 'creationdate': '2025-06-18T14:59:12+05:30', 'author': 'Shivani Gupta', 'moddate': '2025-06-18T14:59:12+05:30', 'source': 'C:\\\\Users\\\\ARYAN SURI\\\\Desktop\\\\Amlgo Labs Assignment\\\\data\\\\AI Training Document.pdf', 'total_pages': 20, 'page': 2, 'page_label': '3'}, page_content='• export or re-export any eBay application or tool, except in compliance with the export \\ncontrol laws, and rules and policies of any relevant jurisdictions; \\n• infringe the copyright, trademark, patent, publicity, moral, database, and/or other \\nintellectual property rights (collectively, \"Intellectual Property Rights\") that belong to or are \\nlicensed to eBay. Some, but not all, actions that may constitute infringement are \\nreproducing, performing, displaying, distributing, copying, reverse engineering, decompiling, \\ndisassembling, or preparing derivative works from content that belongs to eBay or someone \\nelse; \\n• infringe any Intellectual Property Rights that belong to third parties affected by your use of \\nour Services or post content that does not belong to you; \\n• commercialize any eBay application or any information, data, or software associated with \\nsuch application, except with the prior express permission of eBay; or \\n• harvest or otherwise collect or use information about users without their consent. \\nSellers must meet eBay\\'s minimum performance standards. Failure to meet these standards may \\nresult in eBay charging sellers additional fees, and/or limiting, restricting, suspending, or \\ndowngrading your seller account. \\nIf we believe you are violating this User Agreement or any of our policies, or abusing eBay and/or our \\nServices in any way, we may, in our sole discretion and without limiting other remedies, limit, \\nsuspend, or terminate your user account(s) and access to our Services, delay or remove hosted \\ncontent, remove any special status associated with your account(s), remove, not display, and/or \\ndemote listings, reduce or eliminate any discounts, and take technical and/or legal steps to prevent \\nyou from using our Services. We may offer a process allowing users to report claimed violations for \\nus to consider and handle through one or more of these options, all in our sole discretion. \\nIf we believe you are violating our policies prohibiting Offers to buy or sell outside of eBay, you may \\nbe subject to a range of actions, including limits on your buying and selling privileges, restrictions on \\nlistings and account features, suspension of your account, application of fees, and recovery of \\nexpenses for policy monitoring and enforcement. Also, as provided below in the Fees and Taxes \\nsection, if we believe you are violating our policy on buying or selling outside of eBay, you may be \\ncharged final value fees. \\nWe may cancel unconfirmed accounts or accounts that have been inactive for a substantial period of \\ntime. Additionally, we reserve the right to refuse, modify, or terminate all or part of our Services to \\nanyone for any reason at our discretion. \\n4. Vehicle Purchases & Sales \\nAs it relates to vehicle listings, eBay Secure Checkout is powered by and made possible by the \\nservices of Caramel Dealer Services, LLC. As such, when you use eBay Secure Checkout to purchase \\nor sell a vehicle listed on eBay sites, you are contracting with Caramel Dealer Services, LLC d/b/a CDS \\nAuto Sales (“Caramel”). Caramel is an eBay affiliate that holds state licenses as a used vehicle dealer \\nin Arizona, California, Florida, and Texas. Caramel’s Terms of Use, Privacy Policy, and additional \\npolicies and terms posted on and in its sites, applications, tools, and services set forth the terms \\nunder which you may access and use Caramel Services. For additional information, you should \\nreview the Frequently Asked Questions page for eBay Secure Checkout.'),\n",
       " Document(metadata={'producer': 'Microsoft® Word 2016', 'creator': 'Microsoft® Word 2016', 'creationdate': '2025-06-18T14:59:12+05:30', 'author': 'Shivani Gupta', 'moddate': '2025-06-18T14:59:12+05:30', 'source': 'C:\\\\Users\\\\ARYAN SURI\\\\Desktop\\\\Amlgo Labs Assignment\\\\data\\\\AI Training Document.pdf', 'total_pages': 20, 'page': 3, 'page_label': '4'}, page_content=\"eBay is not a vehicle broker, vehicle dealer, or an agent acting on behalf of vehicle brokers, dealers, \\nbuyers or sellers.\\u202f eBay does not maintain an inventory of vehicles for sale and does not sell, \\nexchange, buy, offer for sale, negotiate or attempt to negotiate sales or exchanges of an interest in \\nany vehicle listed on eBay sites.\\u202f eBay has never: (1) held title for any vehicle listed on eBay sites; (2) \\ninspected any vehicle listed on eBay sites; (3) set or negotiated prices for any vehicle listed on eBay \\nsites; (4) had any vehicle listed on eBay sites in its possession; (5) shipped, distributed, or delivered \\nany vehicle listed on eBay sites; or (6) sold a vehicle listed on eBay sites by consignment. \\nIN ADDITION TO, AND WITHOUT LIMITING THE GENERALITY OF THE DISCLAIMERS OF WARRANTIES \\nDETAILED IN SECTION 16, YOU AGREE THAT: (A) EBAY DOES NOT WARRANT AGAINST DEFECTS IN ANY \\nVEHICLE, AND DOES NOT MAKE ANY WARRANTY OF ANY KIND, EITHER EXPRESS OR IMPLIED, \\nINCLUDING REPRESENTATIONS, PROMISES, OR STATEMENTS AS TO THE VEHICLE’S VALUE, \\nCONDITION, SAFETY , CAPABILITY , FITNESS, OR MERCHANTABILITY , (B) NO INFORMATION OBTAINED \\nON EBAY SITES WILL CREATE ANY WARRANTY , EXPRESS OR IMPLIED, (C) YOU HAVE NOT AND WILL \\nNOT RELY UPON ANY REPRESENTATION AS TO THE VEHICLE’S VALUE, CONDITION, SAFETY , \\nCAPABILITY , FITNESS, OR MERCHANTABILITY , AS COMING FROM EBAY , AND (D) EBAY MAKES NO \\nWARRANTY CONCERNING ANY VEHICLE’S TITLE.\\u202f EBAY DISCLAIMS ALL VEHICLE-RELATED \\nREPRESENTATIONS, GUARANTEES, AND WARRANTIES TO THE FULLEST EXTENT PERMISSIBLE BY LAW. \\nYou agree that any reliance on vehicle information on eBay sites is at your own risk. Any \\ndiscrepancies or mistakes made regarding vehicle availability, quality, safety, condition, pricing, \\nfinancing, insurance and the like are not the fault or responsibility of eBay. Neither the accuracy of \\nvehicle information provided on eBay.com, nor the availability, quality, or safety of vehicles is \\nguaranteed by eBay. Furthermore, neither the financing of or insurance relevant to vehicles is \\ncontrolled or guaranteed by eBay. \\nThe purchase of a vehicle encompasses multiple disciplines and eBay is not an expert on matters \\nsuch as vehicle market valuation, laws relating to vehicles, taxes relating to vehicles, vehicle \\nfinancing, vehicle registration, vehicle insurance, vehicle condition safety, and inspections, or vehicle \\nmechanical fitness and engineering,\\u202f eBay hereby cautions you, and you understand and \\nacknowledge, that you should seek professional expert assistance and advice in these and other \\nareas of professional expertise as appropriate. \\n5. Policy Enforcement \\nWhen a buyer or seller issue arises, we may consider the user's performance history and the specific \\ncircumstances in applying our policies. We may choose to be more lenient with policy enforcement \\nin an effort to do the right thing for both buyers and sellers. The foregoing does not limit or impair \\nour right to refuse, modify, or terminate all or part of our Services to anyone, or to terminate this \\nagreement with anyone, for any reason at our discretion. \\n6. Fees and Taxes \\nWe charge sellers for the use of our Services. In some cases, where buyers receive supplemental \\nServices such as authentication or storage Services for items in certain categories, we may also \\ncharge those buyers for such supplemental Services. \\nThe fees we charge sellers for using our Services to sell goods and services are listed on our\\u202fSelling \\nfees\\u202fpages. We may change our selling fees from time to time by posting the changes on the eBay \\nsite fourteen (14) days in advance, but with no advance notice required for temporary promotions or \\nany changes that result in the reduction of fees.\"),\n",
       " Document(metadata={'producer': 'Microsoft® Word 2016', 'creator': 'Microsoft® Word 2016', 'creationdate': '2025-06-18T14:59:12+05:30', 'author': 'Shivani Gupta', 'moddate': '2025-06-18T14:59:12+05:30', 'source': 'C:\\\\Users\\\\ARYAN SURI\\\\Desktop\\\\Amlgo Labs Assignment\\\\data\\\\AI Training Document.pdf', 'total_pages': 20, 'page': 4, 'page_label': '5'}, page_content=\"If you are a seller, you are liable for fees arising out of all sales made using some or all of our \\nServices, even if sales terms are finalized or payment is made outside of eBay. In particular, if you \\noffer or reference your contact information or ask a buyer for their contact information in the context \\nof\\u202fbuying or selling outside of eBay, you may be liable to pay a\\u202ffinal value fee\\u202fapplicable to that item, \\neven if the item doesn't sell, given your usage of our Services for the introduction to a buyer. \\nYou as a seller must have a payment method on file when using our selling Services and pay all fees \\nand applicable taxes associated with your use of our Services by the payment due date. If your \\npayment method fails or your account is past due, we may place restrictions on your account, or the \\neBay Payments Entities (as defined below) may collect amounts owed in the manner described in the \\nPayments Terms of Use, and\\u202flate fees will apply. eBay, or the collection agencies we retain, may also \\nreport information about your account to credit bureaus, and as a result, late payments, missed \\npayments, or other defaults on your account may be reflected in your credit report. If you wish to \\ndispute the information eBay reported to a credit bureau (i.e., Experian, Equifax, or TransUnion) \\nplease contact us at eBay Inc., c/o Global Collections, 7700 West Parmer Lane, Building D, Austin, TX \\n78729. If you wish to dispute the information a collection agency reported to a credit bureau \\nregarding your eBay account, you must contact the collection agency directly. \\n7. Listing Conditions \\nWhen listing an item for sale on our Services, you agree to comply with eBay's Listing policies and \\nSelling practices policy and also agree that: \\n• You assume full responsibility for the item offered and the accuracy and content of the \\nlisting, including listing content created using tools offered by eBay or third parties such as \\ntranslation, image editing, and generative artificial intelligence tools; \\n• Your listing may not be immediately searchable by keyword or category for several hours (or \\nup to 24 hours in some circumstances). eBay can't guarantee exact listing duration; \\n• Your fixed-price listings may renew automatically every calendar month, based on the listing \\nterms at the time, until all quantities sell or the listing is ended by you or eBay, in its sole \\ndiscretion; \\n• The content you provide complies with all of our listing policies, including the Images, videos \\nand text policy; \\n• Content that violates any of eBay's policies may be modified, obfuscated, or deleted at \\neBay's sole discretion; \\n• We may revise listings to supplement, remove, or correct information; \\n• We strive to create a marketplace where buyers find what they are looking for. Therefore, \\nthe appearance or placement of listings in search and browse results will depend on a variety \\nof factors, including, but not limited to: \\n• buyer's location, search query, browsing site, and history; \\n• item's location, listing format, price and shipping cost, terms of service, end time, \\nhistory, and relevance to the user query; \\n• seller's history, including listing practices, Detailed Seller Ratings, eBay policy \\ncompliance, feedback, and defect rate; and\"),\n",
       " Document(metadata={'producer': 'Microsoft® Word 2016', 'creator': 'Microsoft® Word 2016', 'creationdate': '2025-06-18T14:59:12+05:30', 'author': 'Shivani Gupta', 'moddate': '2025-06-18T14:59:12+05:30', 'source': 'C:\\\\Users\\\\ARYAN SURI\\\\Desktop\\\\Amlgo Labs Assignment\\\\data\\\\AI Training Document.pdf', 'total_pages': 20, 'page': 5, 'page_label': '6'}, page_content=\"• number of listings matching the buyer's query. \\n• To drive a positive user experience, a listing may not appear in some search and browse \\nresults regardless of the sort order chosen by the buyer; \\n• Some advanced listing upgrades will only be visible on some of our Services; \\n• eBay's Duplicate listings policy may also affect whether your listing appears in search results; \\n• Metatags and URL links that are included in a listing may be removed or altered; \\n• We may provide you with optional information to consider when creating your listings. Such \\ninformation may be based on the aggregated sales and performance history of similar sold \\nand/or current listings; results may vary for individual listings; \\n• You agree that we may display the sales and performance history of your individual listings \\n(and their associated campaigns) to others; \\n• For items listed in certain categories, subject to certain programs, and/or offered or sold at \\ncertain price points, eBay may require the use of certain payment methods, subject to our \\nPayments methods policy. For example, for inventory covered by authentication or storage \\nservices, buyer and sellers may be subject to escrow and/or payment handling requirements; \\n• You will not sell and will promptly remove all listings for any product recalled by a \\nmanufacturer or governmental agency if the sale of the product is prohibited by law or \\nregulation or if the product poses a health or safety hazard as specified by any governmental \\nagency. eBay has no responsibility or liability for the safety or performance of any product \\nthat you list or sell using our Services, including any product that is subject to a recall. You \\nare solely responsible for any non-conformity or defect in, or compliance with any public or \\nprivate recall of, any product you list or sell using our Services; \\n• eBay may publish and promote your listings, including related content such as username, \\nproduct reviews and feedback, in any format and through any channel, including across any \\neBay Services, our partners, or third-party property or advertising medium; and \\n• Selling fees do not purchase exclusive rights to item exposure on our Services. We may \\ndisplay third-party advertisements (including links and references thereto) or other content \\nin any part of our Services, including listings, in our sole discretion and without consent from, \\nor payment, fee reduction, or other credit to, sellers. \\n8. Purchase Conditions \\nWhen buying an item using our Services, you agree to the Rules and policies for buyers and that: \\n• You are responsible for reading the full item listing before making a bid or offer, buying, or \\ncommitting to buy; \\n• You enter into a legally binding contract to purchase an item when you buy the item, commit \\nto buy the item, your offer for the item is accepted, you have the winning bid for the item, or \\nyour bid for the item is otherwise accepted, regardless of when payment is due or received \\nunless the transaction terms state that you are required to pay for the item before a binding \\ncontract is formed;\"),\n",
       " Document(metadata={'producer': 'Microsoft® Word 2016', 'creator': 'Microsoft® Word 2016', 'creationdate': '2025-06-18T14:59:12+05:30', 'author': 'Shivani Gupta', 'moddate': '2025-06-18T14:59:12+05:30', 'source': 'C:\\\\Users\\\\ARYAN SURI\\\\Desktop\\\\Amlgo Labs Assignment\\\\data\\\\AI Training Document.pdf', 'total_pages': 20, 'page': 6, 'page_label': '7'}, page_content='• For motor vehicles and real estate, a bid or offer initiates a non-binding transaction \\nrepresenting a buyer\\'s serious expression of interest in buying the seller\\'s item and does not \\ncreate a formal contract between the buyer and the seller; \\n• We do not transfer legal ownership of items from the seller to you; \\n• Utah Code Annotated § 70A-2-401(2) and Uniform Commercial Code § 2-401(2) apply to the \\ntransfer of ownership between the buyer and the seller, unless the buyer and the seller \\nagree otherwise. \\n9. International Buying and Selling; Translation \\nGiven the nature of eBay\\'s global marketplace, listings may be viewed and purchased by, and shipped \\nto, buyers around the world. Many of our Services are accessible internationally. We offer certain \\nprograms, tools, and experiences of particular interest to international sellers and buyers, such as \\nestimated local currency conversion and international shipping calculation tools. If, as a seller, you do \\nnot want your item to be sold to buyers internationally, you can exclude countries or regions you \\ndon\\'t want to ship to by adjusting your shipping settings as provided in the International selling \\npolicy. Sellers and buyers are responsible for complying with all laws and regulations applicable to \\nthe international sale, purchase, and shipment of items. \\nIf you purchase an item on an eBay site that is different from your registration site, you are subject to \\nthe User Agreement and applicable policies of that other eBay site with respect to that particular \\npurchase, as detailed in the International selling policy. \\nFor sellers, you agree that we may display your listing for sale on an eBay site other than the site \\nwhere you listed your item for sale, based on your shipping settings. You may adjust these settings as \\ndetailed in the International selling policy. If you list your items with an international shipping option, \\nthe appearance of your listings on sites other than the listing site is not guaranteed. If you sell an \\nitem on an eBay site that is different from your registration or listing site, you are subject to the User \\nAgreement and applicable policies, including any buyer protection programs, of that other eBay site \\nwith respect to that particular sale, as detailed in the International selling policy. \\nYou authorize us to use automated tools to translate your eBay content, including member-to-\\nmember communications, in whole or in part, into local languages where such translation solutions \\nare available. We may provide you with tools which will enable you to translate content at your \\nrequest. The accuracy and availability of any translation are not guaranteed. \\nOne of the ways we make eBay.com listings available to international buyers is through the eBay \\nInternational Shipping Program (\"EIS\"). EIS enables buyers to obtain parcel processing, international \\nshipping, and customs clearance services. It is facilitated by eBay through third-party service \\nproviders that eBay has contracted with to operationalize the program. By listing your item on \\neBay.com you agree to the EIS Terms and Conditions. If you choose not to participate in EIS, you can \\nopt out of the program by updating your shipping preferences. \\n10. Content \\nWhen you provide content using our Services (directly or indirectly), you grant us a non-exclusive, \\nworldwide, perpetual, irrevocable, royalty-free, sublicensable (through multiple tiers) right to \\nexercise any and all Intellectual Property Rights you have in that content in connection with our \\nprovision, expansion, and promotion of our Services, including development of new offerings as part \\nof our Services, in any media known now or developed in the future. To the fullest extent permitted'),\n",
       " Document(metadata={'producer': 'Microsoft® Word 2016', 'creator': 'Microsoft® Word 2016', 'creationdate': '2025-06-18T14:59:12+05:30', 'author': 'Shivani Gupta', 'moddate': '2025-06-18T14:59:12+05:30', 'source': 'C:\\\\Users\\\\ARYAN SURI\\\\Desktop\\\\Amlgo Labs Assignment\\\\data\\\\AI Training Document.pdf', 'total_pages': 20, 'page': 7, 'page_label': '8'}, page_content='under applicable law, you waive your right to enforce your Intellectual Property Rights, including any \\nmoral rights, in that content against eBay, our assignees, our sublicensees, and their assignees in \\nconnection with our, those assignees\\', and those sublicensees\\' use of that content in connection with \\nour provision, expansion, and promotion of our Services. \\nYou represent and warrant that, for all such content you provide, you own or otherwise control all \\nnecessary rights to do so and to meet your obligations under this User Agreement. You represent and \\nwarrant that such content is accurate, appropriate, and legal. You represent and warrant that use of \\nany such content (including derivative works) by us, our users, or others in contract with us, and in \\ncompliance with this User Agreement, does not and will not infringe any Intellectual Property Rights \\nof any third party. eBay takes no responsibility and assumes no liability for any content provided by \\nyou or any third party. \\nWe offer product data (including images, descriptions and specifications) that are provided by third \\nparties (including eBay users). You may use that content solely in your eBay listings. eBay may modify \\nor revoke such permission at any time in our sole discretion. The product data includes copyrighted, \\ntrademarked, and other proprietary materials. You agree not to remove any copyright, proprietary, or \\nidentification markings in the product data and not to create any derivative works based on that data \\n(other than by including the data in your listings). \\nWe try to offer reliable product data, but we cannot promise that the content provided through our \\nServices will always be available, accurate, complete, and up-to-date. You agree that eBay is not \\nresponsible for examining or warranting the listings or content provided by third parties through our \\nServices, and that you will not attempt to hold us or our data providers liable for inaccuracies. \\nThe name \"eBay\" and other eBay marks, logos, designs, and phrases that we use in connection with \\nour Services are trademarks, service marks, or trade dress of eBay in the U.S. and other countries. \\nThey may not be used without the express written prior permission of eBay. \\n11. Notice for Claims of Intellectual Property Violations and Copyright Infringement Pursuant to \\nSection 512(c) of Title 17 of the United States Code \\nWe respond to notices of alleged copyright infringement under the United States Digital Millennium \\nCopyright Act. eBay\\'s Verified Rights Owner (VeRO) program works to ensure that items and content \\nusing our Services do not infringe upon the copyright, trademark, or certain other intellectual \\nproperty rights of third parties. If you believe that your intellectual property rights have been \\ninfringed, please notify our VeRO team and we will investigate. Learn how to submit a notice to eBay. \\n12. Holds and Restricted Funds \\nTo protect eBay from risk of liability for your actions as a seller, eBay Payments Entities (as defined \\nbelow) may restrict access to your funds as described in the Payments Terms of Use. \\n13. Authorization to Contact You; Recording Calls; Analyzing Message Content \\neBay may contact you using autodialed or prerecorded calls and text messages, at any telephone \\nnumber that you have provided us, to: (i) notify you regarding your account; (ii) troubleshoot \\nproblems with your account; (iii) resolve a dispute; (iv) collect a debt; (v) poll your opinions through \\nsurveys or questionnaires; or (vi) as otherwise necessary to service your account or enforce this User \\nAgreement, our policies, applicable law, or any other agreement we may have with you. eBay may \\nalso contact you using autodialed or prerecorded calls and text messages for marketing purposes \\n(e.g., offers and promotions), if you consent to such communications. Our collection, use, disclosure,'),\n",
       " Document(metadata={'producer': 'Microsoft® Word 2016', 'creator': 'Microsoft® Word 2016', 'creationdate': '2025-06-18T14:59:12+05:30', 'author': 'Shivani Gupta', 'moddate': '2025-06-18T14:59:12+05:30', 'source': 'C:\\\\Users\\\\ARYAN SURI\\\\Desktop\\\\Amlgo Labs Assignment\\\\data\\\\AI Training Document.pdf', 'total_pages': 20, 'page': 8, 'page_label': '9'}, page_content='retention, and protection of your personal information is governed by our User Privacy Notice. As \\ndescribed in our User Privacy Notice, eBay may collect other telephone numbers for you and may \\nplace manual non-marketing calls to any of those numbers and autodialed non-marketing calls to any \\nlandline. Standard telephone minute and text charges may apply and may include overage fees if you \\nhave exceeded your plan limits. You may change your marketing communications preference for calls \\nat any time, including through the Communication Preferences section of your My eBay. You may \\nalso opt out of a specific text marketing campaign by replying \"STOP\" to such marketing text \\nmessage. \\neBay may share your telephone number with its authorized service providers as stated in our User \\nPrivacy Notice. These service providers may contact you using autodialed or prerecorded calls and \\ntext messages, only as authorized by eBay to carry out the purposes identified above. \\neBay may, without further notice or warning and in its discretion, monitor or record telephone \\nconversations you or anyone acting on your behalf has with eBay or its agents for quality control and \\ntraining purposes, or for its own protection. \\neBay\\'s automated systems scan and analyze the contents of every message sent through its \\nmessaging platforms (including but not limited to chat and email channels), including messages \\nbetween users, to: (i) detect and prevent fraudulent activity or violations of eBay\\'s User Agreement, \\nincluding the incorporated terms, notices, rules, and policies and (ii) provide and improve our \\nServices. This may result in a manual review of messages sent through our messaging tools. This \\nscanning and analysis may occur before, during, or after the message is sent, or while in storage, and \\nmay result in your message being delayed or withheld. eBay may store message contents, including \\nto conduct this scanning and analysis. \\nPrivacy of Others; Marketing \\nIf eBay provides you with information about another user, you agree you will use the information \\nonly for the purposes that it is provided to you. You may not disclose or distribute a user\\'s \\ninformation to a third party for purposes unrelated to our Services. Additionally, you may only send \\nmarketing communications to users who have consented to receive them in accordance with \\napplicable laws, and only using eBay Services. \\n14. Additional Terms \\nReturns and cancellations for sellers \\nSellers can create rules to automate replacements, returns, and refunds under certain circumstances. \\nFor all new sellers, in listings where returns are accepted, eBay will set a default rule that automates \\nthe return process. Sellers may remove or customize their return preferences in their account \\nsettings within My eBay. Where settings have been set to automatically accept requests for returns \\nor replacements, an eBay-generated return shipping label will be provided to your buyer. You agree \\nto comply with our returns policy. \\nWhen an item is returned or if a transaction is canceled after payment has been completed, eBay \\nmay issue a refund to the buyer on the seller\\'s behalf and charge the seller for the amount of the \\nrefund. \\nAdditionally, eBay may charge sellers for the cost of return shipping labels and/or other reasonable \\nfees from sellers when: \\n• An eBay-generated return shipping label is used, and the seller is responsible for its cost;'),\n",
       " Document(metadata={'producer': 'Microsoft® Word 2016', 'creator': 'Microsoft® Word 2016', 'creationdate': '2025-06-18T14:59:12+05:30', 'author': 'Shivani Gupta', 'moddate': '2025-06-18T14:59:12+05:30', 'source': 'C:\\\\Users\\\\ARYAN SURI\\\\Desktop\\\\Amlgo Labs Assignment\\\\data\\\\AI Training Document.pdf', 'total_pages': 20, 'page': 9, 'page_label': '10'}, page_content=\"• Returns have been automated; \\n• The seller fails to send the buyer a return shipping label and, instead, an eBay-generated \\nshipping label is used; and/or \\n• The item is not as described in the listing and is returned in accordance with eBay Money \\nBack Guarantee or other applicable terms. \\neBay or eBay Payment Entities may invoice sellers for these charges and collect such charges as \\ndescribed in the Payments Terms of Use. \\nAll seller cancellations of orders must be in accordance with our Order cancellation policy. \\nReturns and cancellations for buyers \\nBuyers generally do not have the right to cancel an order. Buyers can request to cancel an order on \\neBay within the time period and as provided in our Order cancellation policy, and the seller will have \\n3 days to accept or decline the request. If the order cannot be canceled, buyers may still be \\npermitted to return the item if the item is\\u202feligible for return. \\nIn certain instances, a buyer may be responsible for the cost of return shipping for an item returned \\nto a seller. If the buyer is responsible for the return shipping costs, the buyer may elect to use an \\neBay-generated shipping label or purchase a shipping label directly from a carrier. By choosing to use \\nan eBay-generated shipping label, you (as a buyer) agree that eBay may deduct the cost of the \\nshipping label from the refund owed to you. \\neBay Money Back Guarantee \\nMost eBay sales go smoothly, but if there's a problem with a purchase covered by eBay Money Back \\nGuarantee, buyers can get their money back if an item didn't arrive, is faulty or damaged, or doesn't \\nmatch the listing. You agree to comply with the policy and permit us to make a final decision on any \\neBay Money Back Guarantee case. \\nIf you (as seller) choose to reimburse a buyer, or are required to reimburse a buyer or eBay under the \\neBay Money Back Guarantee, eBay or eBay Payments Entities may invoice you in the amount of the \\nreimbursement, or collect the amount of the reimbursement from you as described in the\\u202fPayments \\nTerms of Use. If we cannot get reimbursement from you, we may collect the outstanding sums using \\nother collection mechanisms, including retaining collection agencies. \\nWe may suspend the eBay Money Back Guarantee in whole or in part without notice if we suspect \\nabuse or interference with the proper working of the policy. You agree to make us whole for any \\nlosses, including expenses we incur to recoup such losses, arising out of your abuse of the eBay \\nMoney Back Guarantee, or any fraud you commit in connection with the eBay Money Back \\nGuarantee. \\nRecommendations \\neBay may offer personalized recommendations to you to provide a relevant and engaging \\nexperience, helping you sell or buy items of interest to you. These recommendations may consider \\ndata related to your eBay activity, the item, and seasonality, among other factors. \\n15. Payment Services\"),\n",
       " Document(metadata={'producer': 'Microsoft® Word 2016', 'creator': 'Microsoft® Word 2016', 'creationdate': '2025-06-18T14:59:12+05:30', 'author': 'Shivani Gupta', 'moddate': '2025-06-18T14:59:12+05:30', 'source': 'C:\\\\Users\\\\ARYAN SURI\\\\Desktop\\\\Amlgo Labs Assignment\\\\data\\\\AI Training Document.pdf', 'total_pages': 20, 'page': 10, 'page_label': '11'}, page_content='Payments for goods and services sold using our Services are facilitated by designated eBay entities \\n(each, an \"eBay Payment Entity\") pursuant to the Payments Terms of Use. You agree to the Payments \\nTerms of Use to the extent applicable to you. To receive payment for an item sold using our Services, \\nyou must accept and comply with the Payments Terms of Use, including the requirements to provide \\nto eBay Payment Entities information about you, your business, and the financial account you will \\nuse to receive payments. \\nIf you are a buyer: \\n• You may pay for items and services using the payment methods that the eBay Payment \\nEntities make available, and the eBay Payment Entities will manage settlement of the \\npayment to sellers. The eBay Payment Entities will collect the transaction amount on behalf \\nof the seller by charging your selected payment method. Accordingly, payments received \\nby\\u202fthe eBay Payment Entity from you will satisfy your obligations to pay the seller in the \\namount of payments received; \\n• In certain instances, your transaction may be declined, frozen, or held for any reason \\nincluding for suspected fraud, Anti-Money Laundering (\"AML\") compliance, compliance with \\neconomic or trade sanctions, in connection with eBay\\'s internal risk controls or due to \\npotential violations of any policy of eBay or the eBay Payment Entity, or a policy of one of the \\nPayment Entity\\'s third-party payment services providers; \\n• eBay, the eBay Payment Entity or its affiliates may save payment information, such as credit \\ncard or debit card numbers, and card expiration dates, entered by you on our Services when \\nyou make a purchase, redeem a coupon, or make any other transaction on our Services \\nwhere card information is entered. Such stored payment information may be used as your \\ndefault payment method for future transactions on our Services. At any time, you can update \\nyour card information or enter new card information, at which point the new card \\ninformation shall be stored as your default payment method. You may make changes to your \\ndefault payment method through the payment section in My eBay. You are responsible for \\nmaintaining the accuracy of information we have on file, and you consent to eBay updating \\nsuch stored information from time to time based on information provided by you, your bank \\nor other payments services providers. You will only provide information about payment \\nmethods that you are authorized to use. By placing a payment method on file with us, you \\nauthorize eBay Payment Entities to charge your payment method(s) for any and all amounts \\narising from your use of our Services, including charges to recover the proceeds of any fraud \\nperpetrated by you, or charges necessary to recoup amounts refunded to you in error; \\n• You may seek returns or cancellations on our Services, or file eBay Money Back Guarantee \\nclaims on our Services. If you are entitled to a refund, the eBay Payment Entities will issue \\nthe refund if the eBay Payment Entities processed the original payment. Refund timing may \\nvary in accordance with the rules of third parties, such as credit and debit card networks; \\n• You agree to comply with, and not cause a third party to violate, all applicable laws, \\nregulations, rules and terms and conditions in connection with the use of the services \\nprovided by the eBay Payment Entities. You understand that some third parties, such as \\ncredit and debit card issuers, credit and debit card networks and payments services \\nproviders, may have their own terms and conditions for the payment or settlement methods \\nyou choose to use in connection with managed payments transactions. Failure to abide by \\nthird-party terms and conditions may result in fees assessed to you (for example, currency'),\n",
       " Document(metadata={'producer': 'Microsoft® Word 2016', 'creator': 'Microsoft® Word 2016', 'creationdate': '2025-06-18T14:59:12+05:30', 'author': 'Shivani Gupta', 'moddate': '2025-06-18T14:59:12+05:30', 'source': 'C:\\\\Users\\\\ARYAN SURI\\\\Desktop\\\\Amlgo Labs Assignment\\\\data\\\\AI Training Document.pdf', 'total_pages': 20, 'page': 11, 'page_label': '12'}, page_content='conversion fees from your credit card issuer if the transaction currency is different from your \\ncredit card currency) or other actions taken by such third parties, and you agree that the \\neBay Payment Entity has no control over, or responsibility or liability for, such fees or actions. \\n16. Disclaimer of Warranties; Limitation of Liability \\nWe try to keep our Services safe, secure, and functioning properly, but we cannot guarantee the \\ncontinuous operation of or access to our Services. Bid update and other notification functionality in \\neBay\\'s applications may not occur in real time. Such functionality is subject to delays beyond eBay\\'s \\ncontrol. \\nYOU AGREE THAT YOU ARE MAKING USE OF OUR SERVICES AT YOUR OWN RISK, AND THAT THEY ARE \\nBEING PROVIDED TO YOU ON AN \"AS IS\" AND \"AS AVAILABLE\" BASIS. ACCORDINGLY , TO THE EXTENT \\nPERMITTED BY APPLICABLE LAW , WE EXCLUDE ALL EXPRESS OR IMPLIED WARRANTIES, TERMS AND \\nCONDITIONS INCLUDING, BUT NOT LIMITED TO, IMPLIED WARRANTIES OF MERCHANTABILITY , \\nFITNESS FOR A PARTICULAR PURPOSE, AND NON-INFRINGEMENT. \\nIN ADDITION, TO THE EXTENT PERMITTED BY APPLICABLE LAW, IN NO EVENT WILL EBAY (INCLUDING \\nOUR PARENT, SUBSIDIARIES, AND AFFILIATES, AND OUR AND THEIR OFFICERS, DIRECTORS, AGENTS, \\nAND EMPLOYEES) BE LIABLE TO YOU OR ANY THIRD PARTY UNDER ANY CLAIM AT LAW OR IN EQUITY \\nFOR ANY CONSEQUENTIAL DAMAGES OR LOSSES (INCLUDING, BUT NOT LIMITED TO, LOSS OF \\nMONEY , GOODWILL OR REPUTATION, PROFITS, OTHER INTANGIBLE LOSSES, OR ANY SPECIAL, \\nINDIRECT, OR CONSEQUENTIAL DAMAGES), AND ALL SUCH DAMAGES OR LOSSES ARE EXPRESSLY \\nEXCLUDED BY THIS USER AGREEMENT WHETHER OR NOT THEY WERE FORESEEABLE OR EBAY WAS \\nADVISED OF SUCH DAMAGES OR LOSSES. WITHOUT LIMITING THE GENERALITY OF THE FOREGOING, \\nWE (INCLUDING OUR PARENT, SUBSIDIARIES, AND AFFILIATES, AND OUR AND THEIR OFFICERS, \\nDIRECTORS, AGENTS, AND EMPLOYEES) ARE NOT LIABLE, AND YOU AGREE NOT TO HOLD US \\nRESPONSIBLE, FOR ANY DAMAGES OR LOSSES (INCLUDING, BUT NOT LIMITED TO, LOSS OF MONEY , \\nGOODWILL OR REPUTATION, PROFITS, OTHER INTANGIBLE LOSSES, OR ANY SPECIAL, INDIRECT, OR \\nCONSEQUENTIAL DAMAGES) RESULTING DIRECTLY OR INDIRECTLY FROM: \\n• the content you provide (directly or indirectly) using our Services; \\n• your use of or your inability to use our Services; \\n• pricing, shipping, format, or other guidance provided by eBay; \\n• delays or disruptions in our Services; \\n• viruses or other malicious software obtained by accessing or linking to our Services; \\n• glitches, bugs, errors, or inaccuracies of any kind in our Services; \\n• damage to your hardware device from the use of any eBay Service; \\n• the content, actions, or inactions of third parties, including items listed using our Services or \\nthe destruction of allegedly fake items; \\n• a suspension or other action taken with respect to your account or breach of the Using eBay \\nsection above; \\n• the duration or manner in which your listings appear in search results as set out in the Listing \\nConditions section above; or'),\n",
       " Document(metadata={'producer': 'Microsoft® Word 2016', 'creator': 'Microsoft® Word 2016', 'creationdate': '2025-06-18T14:59:12+05:30', 'author': 'Shivani Gupta', 'moddate': '2025-06-18T14:59:12+05:30', 'source': 'C:\\\\Users\\\\ARYAN SURI\\\\Desktop\\\\Amlgo Labs Assignment\\\\data\\\\AI Training Document.pdf', 'total_pages': 20, 'page': 12, 'page_label': '13'}, page_content='• your need to modify practices, content, or behavior, or your loss of or inability to do \\nbusiness, as a result of changes to this User Agreement or our policies. \\nSome jurisdictions do not allow the disclaimer of warranties or exclusion of damages, so such \\ndisclaimers and exclusions may not apply to you. \\nRegardless of the previous paragraphs, if we are found to be liable, our liability to you or to any third \\nparty is limited to the greatest of (a) any amounts due under the eBay Money Back Guarantee up to \\nthe price the item sold for on eBay (including any applicable sales tax) plus its original shipping costs, \\n(b) the amount of fees in dispute, not to exceed the total fees you paid to us in the 12 months prior \\nto the action giving rise to the liability, or (c) $100. \\n17. Release \\nIf you have a dispute with one or more users, you release us (and our affiliates and subsidiaries, and \\nour and their respective officers, directors, employees, and agents) from claims, demands, and \\ndamages (actual and consequential) of every kind and nature, known and unknown, arising out of or \\nin any way connected with such disputes. In entering into this release, you expressly waive any \\nprotections (whether statutory or otherwise) that would otherwise limit the coverage of this release \\nto include only those claims which you may know or suspect to exist in your favor at the time of \\nagreeing to this release. \\n18. Indemnity \\nYou will indemnify and hold us (including our affiliates and subsidiaries, as well as our and their \\nrespective officers, directors, employees, and agents) harmless from any claim or demand, including \\nreasonable legal fees, made by any third party due to or arising out of your breach of this User \\nAgreement, your improper use of our Services or your breach of any law or the rights of a third party. \\n19. Legal Disputes \\nPLEASE READ THIS SECTION CAREFULLY . IT AFFECTS YOUR RIGHTS AND WILL HAVE A SUBSTANTIAL \\nIMPACT ON HOW CLAIMS YOU AND EBAY HAVE AGAINST EACH OTHER ARE RESOLVED. \\nIn this Legal Disputes section, the term \"related third parties\" includes your and eBay\\'s respective \\naffiliates, subsidiaries, parent companies, predecessors, successors, assigns, as well as your, eBay\\'s, \\nand these entities\\' respective employees and agents. \\nYou and eBay each agree that any and all claims or disputes at law or equity that has arisen, or may \\narise, between you and eBay (or any related third parties) that relate in any way to or arise out of \\nthis or previous versions of this User Agreement, your use of or access to the Services, the actions of \\neBay or its agents, or any products or services sold, offered, or purchased through the Services, will \\nbe resolved in accordance with the provisions set forth in this Legal Disputes section. \\nA. Applicable Law \\nYou and eBay agree that, except to the extent inconsistent with or preempted by federal law, the \\nlaws of the State of Utah, without regard to principles of conflict of laws, will govern this User \\nAgreement and any claim or dispute that has arisen or may arise between you and eBay, except as \\notherwise stated in this User Agreement. \\nB. Agreement to Arbitrate'),\n",
       " Document(metadata={'producer': 'Microsoft® Word 2016', 'creator': 'Microsoft® Word 2016', 'creationdate': '2025-06-18T14:59:12+05:30', 'author': 'Shivani Gupta', 'moddate': '2025-06-18T14:59:12+05:30', 'source': 'C:\\\\Users\\\\ARYAN SURI\\\\Desktop\\\\Amlgo Labs Assignment\\\\data\\\\AI Training Document.pdf', 'total_pages': 20, 'page': 13, 'page_label': '14'}, page_content='You and eBay each agree that any and all disputes or claims between you and eBay (or any related \\nthird parties) that arise out of or relate in any way to this or previous versions of the User \\nAgreement, your use of or access to our Services, the actions of eBay or its agents, or any products \\nor services sold, offered, or purchased through our Services, including the scope or applicability of \\nthis Agreement to Arbitrate (each, a \"Dispute\") shall be resolved exclusively through final and \\nbinding arbitration, rather than in court. The exceptions to this Agreement to Arbitrate are: (1) you or \\neBay may seek relief in small claims court if such claims qualify and remain in small claims court; and \\n(2) you or eBay may seek equitable relief in court for infringement or other misuse of intellectual \\nproperty rights (such as trademarks, trade dress, domain names, trade secrets, copyrights, and \\npatents). For purposes of this Agreement to Arbitrate, \"Dispute\" will also include disputes that arose \\nor involve facts occurring before the existence of this or any prior versions of the User Agreement as \\nwell as claims that may arise after the termination of this User Agreement, unless those disputes \\nwere noticed prior to this User Agreement. \\n1. Informal Dispute Resolution \\nIf a Dispute arises between you and eBay, eBay is committed to working with you to reach a \\nprompt, low-cost and mutually reasonable resolution. You and eBay agree to participate in \\ngood faith informal efforts to resolve Disputes before starting an arbitration or initiating an \\naction in small claims court (\"Informal Dispute Resolution\"). To initiate Informal Dispute \\nResolution, a party must give notice to the other party in writing in a valid Notice of Dispute \\n(\"Notice\"), which may be downloaded at this link. Such Notice to eBay should be sent by \\nemail to DisputeNotice@eBay.com or regular mail to our offices located at 583 W. eBay Way, \\nDraper, UT 84020. eBay will send any Notice to you to the physical address we have on file \\nassociated with your eBay account; it is your responsibility to keep your physical address up \\nto date. To be valid, you must personally sign the Notice and complete all information on the \\nNotice form, including a description of the claims you are asserting, the specific relief sought, \\nand the user name, email address and phone number associated with your account. \\nThe Informal Dispute Resolution process lasts 45 days and is a mandatory precondition to \\ncommencing arbitration. The statute of limitations and any filing deadlines shall be tolled \\nwhile the parties engage in Informal Dispute Resolution. \\n2. Waiver of Jury Trial \\nYOU AND EBAY HEREBY WAIVE ANY CONSTITUTIONAL AND STATUTORY RIGHTS TO SUE IN \\nCOURT AND HAVE A TRIAL IN FRONT OF A JUDGE OR A JURY . You and eBay are instead \\nelecting that all Disputes shall be resolved by arbitration under this Agreement to Arbitrate, \\nexcept as specified in Section 19.B (\"Agreement to Arbitrate\"). \\n3. Waiver of Class and Representative Actions and Non-Individualized Relief \\nEACH OF US MAY BRING CLAIMS AGAINST THE OTHER ONLY ON AN INDIVIDUAL BASIS AND \\nNOT ON A CLASS, REPRESENTATIVE, OR COLLECTIVE BASIS, AND THE PARTIES HEREBY WAIVE \\nALL RIGHTS TO HAVE ANY DISPUTE BE BROUGHT, HEARD, ADMINISTERED, RESOLVED, OR \\nARBITRATED ON A CLASS, COLLECTIVE, OR REPRESENTATIVE BASIS. ONLY INDIVIDUAL RELIEF \\nIS AVAILABLE. Subject to this Agreement to Arbitrate, the arbitrator may award declaratory \\nor injunctive relief only in favor of the individual party seeking relief and only to the extent \\nnecessary to provide relief warranted by the party’s individual claim. Nothing in this \\nparagraph is intended to, nor shall it, affect the terms and conditions under Section 19.B.7 \\n(\"Batch Arbitration\"). \\nNotwithstanding anything to the contrary in this Agreement to Arbitrate, if a final decision, \\nnot subject to any further appeal or recourse, determines that the limitations of this Section'),\n",
       " Document(metadata={'producer': 'Microsoft® Word 2016', 'creator': 'Microsoft® Word 2016', 'creationdate': '2025-06-18T14:59:12+05:30', 'author': 'Shivani Gupta', 'moddate': '2025-06-18T14:59:12+05:30', 'source': 'C:\\\\Users\\\\ARYAN SURI\\\\Desktop\\\\Amlgo Labs Assignment\\\\data\\\\AI Training Document.pdf', 'total_pages': 20, 'page': 14, 'page_label': '15'}, page_content='are invalid or unenforceable as to a particular claim or request for relief (such as a request \\nfor public injunctive relief), you and eBay agree that that particular claim or request for relief \\n(and only that particular claim or request for relief) shall be severed from the arbitration and \\nmay be brought in court (pursuant to Section 19.C below), subject to your and eBay\\'s right to \\nappeal the court\\'s decision. All other Disputes, aside from those explicitly exempted in \\nSections 19.B (above), shall be arbitrated. This section does not prevent you or eBay from \\nparticipating in a class-wide settlement of claims. \\n4. Arbitration Procedures \\nArbitration is more informal than a lawsuit in court. Arbitration uses a neutral arbitrator \\ninstead of a judge or jury, and court review of an arbitration award is very limited. However, \\nan arbitrator can award the same damages and relief on an individualized basis that a court \\ncan award to an individual. An arbitrator will apply the terms of the User Agreement as a \\ncourt would. The arbitrator shall have exclusive authority to resolve any Dispute, including, \\nwithout limitation, disputes regarding the interpretation or application of the Agreement to \\nArbitrate, including the enforceability, revocability, scope, or validity of the Agreement to \\nArbitrate or any portion of the Agreement to Arbitrate, except that all Disputes regarding \\nSection 19.B.3 (\"Waiver of Class and Other Non-Individualized Relief\") including any claim \\nthat all or part of that Section is unenforceable, illegal, void or voidable, or that such Section \\nhas been breached, shall be decided by a court of competent jurisdiction and not by an \\narbitrator. \\nThe award of the arbitrator is final and binding upon you and us. Unsatisfied judgments on \\nthe arbitration award may be entered in any court having jurisdiction. This User Agreement \\nevidences a transaction involving interstate commerce; and notwithstanding any other \\nprovision herein with respect to the applicable substantive law, the Federal Arbitration Act, 9 \\nU.S.C. § 1 et seq., will govern the interpretation and enforcement of this Agreement to \\nArbitrate and any arbitration, including the procedures governing Batch Arbitration. \\nIf Informal Dispute Resolution does not resolve satisfactorily within 45 days after receipt of a \\nNotice, you and eBay agree that either party shall have the right to finally resolve the Dispute \\nthrough binding arbitration. The arbitration will be administered by National Arbitration & \\nMediation (\"NAM\") in accordance with the NAM Comprehensive Dispute Resolution Rules \\nand Procedure (the \"NAM Comprehensive Rules\") in effect at the time of arbitration, except \\nas supplemented, where applicable, by the NAM Supplemental Rules for Mass Arbitration \\nFilings (the \"NAM Mass Filing Rules\"; together with the NAM Comprehensive Rules, the \\n\"NAM Rules\"), and as modified by this Agreement to Arbitrate. The NAM Rules are currently \\navailable at https://www.namadr.com/resources/rules-fees-forms/. If NAM is unavailable to \\nadminister the arbitration, another administrator will be selected by the parties or, if the \\nparties cannot reach agreement, the court (pursuant to Section 19.C below) shall select the \\nadministrator. \\nA party who wishes to initiate arbitration must provide the other party with a demand for \\narbitration (the \"Demand\"). A Demand to eBay should be sent by mail to eBay Inc., Attn: \\nLitigation Department, 583 W. eBay Way, Draper, UT 84020. If eBay initiates an arbitration \\nagainst you, it will send a Demand to the physical address we have on file associated with \\nyour eBay account; it is your responsibility to keep your physical address up to date. A \\nDemand form is available on NAM\\'s site at \\nhttps://www.namadr.com/content/uploads/2024/09/Revised-Comprehensive-Demand-for-\\nArb-9.17.24.pdf. The Demand must include: (1) the name, telephone number, mailing \\naddress, e-mail address, and eBay user name of the party seeking arbitration, including a'),\n",
       " Document(metadata={'producer': 'Microsoft® Word 2016', 'creator': 'Microsoft® Word 2016', 'creationdate': '2025-06-18T14:59:12+05:30', 'author': 'Shivani Gupta', 'moddate': '2025-06-18T14:59:12+05:30', 'source': 'C:\\\\Users\\\\ARYAN SURI\\\\Desktop\\\\Amlgo Labs Assignment\\\\data\\\\AI Training Document.pdf', 'total_pages': 20, 'page': 15, 'page_label': '16'}, page_content='statement whether the party is a U.S. resident; (2) a statement of the legal claims being \\nasserted and the factual bases for those claims; (3) a description of the remedy sought and \\nan accurate, good-faith calculation of the amount in controversy; (4) a statement certifying \\ncompletion of the Informal Dispute Resolution process as described above; and (5) a \\nstatement certifying that the requesting party will pay any necessary filing fees in connection \\nwith such arbitration. If the party requesting arbitration is represented by counsel, the \\nDemand shall also include counsel’s name, telephone number, mailing address, and email \\naddress. Such counsel must also sign the Demand. \\nIf you are a U.S. resident, and unless you and eBay otherwise agree, the arbitration, including \\nany in-person arbitration hearing, will be conducted in the county where you reside or, in the \\ncase of Batch Arbitration, as determined by the arbitrator. If you are not a resident of the \\nUnited States, then the arbitration, including any in-person arbitration hearing, will be held \\nin Salt Lake County, Utah, United States, or another mutually agreed location. Subject to the \\nNAM Rules, the arbitrator may direct a limited and reasonable exchange of information \\nbetween the parties, consistent with the expedited nature of the arbitration. You and eBay \\nagree that all materials and documents exchanged during the arbitration proceedings shall \\nbe kept confidential and shall not be shared with anyone except the parties’ attorneys, \\naccountants, or business advisors, and shall be subject to the condition that they agree to \\nkeep all materials and documents exchanged during the arbitration proceedings confidential. \\nYou and eBay agree that at least 14 days before the date set for an arbitration hearing, any \\nparty may serve an offer in writing upon the other party to allow judgment on specified \\nterms. If the offer made by one party is not accepted by the other party, and the other party \\nfails to obtain a more favorable award, the other party shall not recover any post-offer costs \\nto which they otherwise would be entitled and shall pay the offering party’s costs from the \\ntime of the offer. \\nThe parties agree that the arbitrator will decide the substance of all claims in accordance \\nwith applicable law, including recognized principles of equity, and will honor all claims of \\nprivilege recognized by law. The parties agree that the arbitrator shall not be bound by \\nrulings in prior arbitrations involving different users but shall be bound by rulings in prior \\narbitrations involving the same eBay user to the extent required by applicable law. The \\narbitrator\\'s award shall be final and binding, and an unsatisfied judgment on the award \\nrendered by the arbitrator may be entered in any court having jurisdiction thereof. \\n5. Arbitrator \\nThe arbitrator will be either a retired judge or an attorney and will be selected by the parties \\nfrom the NAM’s roster of consumer dispute arbitrators, provided that if the Batch Arbitration \\nprocess is triggered, NAM will appoint the arbitrator for each batch without soliciting input \\nor feedback from any party. If the parties are unable to agree upon an arbitrator within 35 \\ndays of delivery of the Demand, then NAM will appoint the arbitrator in accordance with the \\nNAM Rules. \\n6. Fees and Costs \\nPayment of all filing, administration, and arbitrator fees will be governed by the applicable \\nNAM fee schedules (the \"Fee Schedules\"), but may be reapportioned between the parties in \\naccordance with this Agreement to Arbitrate, as follows: if you complied with the Informal \\nDispute Resolution requirements in Section 1 of this Agreement and the value of the relief \\nsought in the Dispute is $10,000 or less, at your request eBay will pay all filing, \\nadministration, and arbitrator fees associated with the arbitration. The parties shall bear \\ntheir own attorneys’ fees and costs in arbitration unless the arbitrator finds that either the'),\n",
       " Document(metadata={'producer': 'Microsoft® Word 2016', 'creator': 'Microsoft® Word 2016', 'creationdate': '2025-06-18T14:59:12+05:30', 'author': 'Shivani Gupta', 'moddate': '2025-06-18T14:59:12+05:30', 'source': 'C:\\\\Users\\\\ARYAN SURI\\\\Desktop\\\\Amlgo Labs Assignment\\\\data\\\\AI Training Document.pdf', 'total_pages': 20, 'page': 16, 'page_label': '17'}, page_content='substance of the Dispute or the relief sought in the Demand was frivolous or was brought for \\nan improper purpose (as measured by the standards set forth in Federal Rule of Civil \\nProcedure 11(b)). To the extent, following a presentation on the merits, on its own motion or \\na party’s, and after affording a reasonable opportunity to respond, an arbitrator determines \\nthat a party who commenced arbitration did not bring its claim(s) consistent with counsel’s \\nCertification and the standards set forth in Federal Rule of Civil Procedure 11(b), the \\narbitrator may, as part of its award, impose sanctions by ordering that the initiating party \\nreimburse the responding party for all arbitration costs and arbitrators’ fees the responding \\nparty incurred under the Fee Schedule. \\n7. Batch Arbitration \\nTo increase the efficiency of administration and resolution of arbitrations, you and eBay \\nagree that in the event that there are 25 or more individual Demands of a substantially \\nsimilar nature filed against eBay by or with the assistance of the same law firm, group of law \\nfirms, or organizations (\"Claimant’s Counsel\"), within a reasonably proximate period of time, \\nfor example, a 90 day period, NAM shall (1) administer the arbitration demands in batches of \\n100 Demands per batch (or, if between 25 and 99 individual Demands are filed, a single \\nbatch of all those Demands, and, to the extent there are less than 100 Demands remaining \\nafter the batching described above, a final batch consisting of the remaining Demands); (2) \\nappoint one arbitrator for each batch; and (3) provide for the resolution of each batch on a \\nconsolidated basis with one set of filing and administrative fees due per batch, one \\nprocedural calendar, one hearing (if any) in a place to be selected by Claimant’s Counsel or, if \\nClaimant’s Counsel does not have a preference, by the arbitrator, and one final award, which \\nwill provide for any and all relief to which the arbitrator determines each individual party is \\nentitled (\"Batch Arbitration\"). NAM shall administer all batches concurrently, to the extent \\npossible. \\nAll parties agree that Demands are of a \"substantially similar nature\" if they arise out of or \\nrelate to the same event or factual scenario and raise the same or similar legal issue(s) and \\nseek the same or similar relief. To the extent the parties disagree on the application of the \\nBatch Arbitration process, the disagreeing party shall advise NAM, and NAM shall appoint a \\nsole standing Procedural Arbitrator or, should the circumstances so require, an Emergency \\nArbitrator, according to the NAM Rules, to determine the applicability of the Batch \\nArbitration process (the Procedural Arbitrator or Emergency Arbitrator, the \"Administrative \\nArbitrator\"). To expedite resolution of any such dispute by the Administrative Arbitrator, the \\nparties agree the Administrative Arbitrator may set forth such procedures as are necessary to \\nresolve any disputes promptly. The Administrative Arbitrator’s fees shall be paid by eBay. \\nYou and eBay agree to cooperate in good faith with NAM to implement the Batch Arbitration \\nprocess including the payment of single filing and administrative fees for batches of \\nDemands, as well as any steps to minimize the time and costs of arbitration, which may \\ninclude: (1) the appointment of a discovery special master to assist the arbitrator in the \\nresolution of discovery disputes; and (2) the adoption of an expedited calendar of the \\narbitration proceedings. This Batch Arbitration provision shall in no way be interpreted as \\nauthorizing a class, collective and/or representative arbitration or action of any kind, except \\nas expressly set forth in this provision, and nothing about the Batch Arbitration process will \\npreclude any party from participating in any arbitration administered according to that \\nprocess. \\n8. Severability \\nExcept as provided in Section 19.B.3 (\"Waiver of Class or Other Non-Individualized Relief\"), if'),\n",
       " Document(metadata={'producer': 'Microsoft® Word 2016', 'creator': 'Microsoft® Word 2016', 'creationdate': '2025-06-18T14:59:12+05:30', 'author': 'Shivani Gupta', 'moddate': '2025-06-18T14:59:12+05:30', 'source': 'C:\\\\Users\\\\ARYAN SURI\\\\Desktop\\\\Amlgo Labs Assignment\\\\data\\\\AI Training Document.pdf', 'total_pages': 20, 'page': 17, 'page_label': '18'}, page_content='any part or parts of this Agreement to Arbitrate (other than Section 19.B.7 (\"Batch \\nArbitration\")) are found under the law to be invalid or unenforceable, then such specific part \\nor parts shall be of no force and effect and shall be severed and the remainder of the \\nAgreement to Arbitrate shall continue in full force and effect. However, if Section 19.B.7 \\n(\"Batch Arbitration\") of this Agreement to Arbitrate is found under the law to be invalid or \\nunenforceable then, in that case, the entire Agreement to Arbitrate shall be void, and the \\nparties agree that all Disputes will be heard in the state or federal courts located in Salt Lake \\nCounty, Utah as required in Section 19.C. You further agree that any Dispute that you have \\nwith eBay as detailed in this Agreement to Arbitrate must be initiated within the applicable \\nstatute of limitation for that claim or controversy, or it will be forever time barred. Likewise, \\nyou agree that all applicable statutes of limitation will apply to such arbitration in the same \\nmanner as those statutes of limitation would apply in the applicable court of competent \\njurisdiction. \\n9. Opt-Out Procedure \\nYOU CAN CHOOSE TO OPT OUT OF THIS AGREEMENT TO ARBITRATE (\"OPT OUT\") BY \\nMAILING US A WRITTEN OPT-OUT NOTICE (\"OPT-OUT NOTICE\"). THE OPT-OUT NOTICE MUST \\nBE POSTMARKED NO LATER THAN THE EFFECTIVE DATE OF THE AMENDMENT OR 30 DAYS \\nFROM THE DATE YOU FIRST ACCEPT THIS USER AGREEMENT. YOU MUST MAIL THE OPT-OUT \\nNOTICE TO EBAY INC., ATTN: LITIGATION DEPARTMENT, RE: OPT-OUT NOTICE, 583 WEST EBAY \\nWAY , DRAPER, UT 84020.\\u202fFor your convenience, we are providing an Opt-Out Notice form. \\nYou must complete, sign, and mail that to us to opt out of this Agreement to Arbitrate. You \\nmust sign the Opt-Out Notice for it to be effective. Any Opt-Out Notice will be effective only \\nif you send it yourself, on an individual basis, and opt-out notices from any third party \\npurporting to act on your behalf will have no effect on your or eBay’s rights. This procedure is \\nthe only way you can opt out of this Agreement to Arbitrate. \\nOpting out of this Agreement to Arbitrate has no effect on any arbitration agreement(s) you \\nmay currently have with us, including any previous version of this Agreement to Arbitrate to \\nwhich you agreed; all such prior\\u202farbitration agreements remain in effect unless superseded \\nby this Agreement, and you cannot use this procedure to opt out of any previous version of \\nthis Agreement to Arbitrate. Neither you nor eBay waives any right to arbitration that may \\napply to any current or pending lawsuit, arbitration, or legal proceeding commenced prior to \\nthe effective date of this Agreement to Arbitrate.\\u202f If you opt out of this Agreement to \\nArbitrate, all other parts of this User Agreement and its Legal Disputes section will continue \\nto apply to you. \\n10. Future Amendments to the Agreement to Arbitrate \\nNotwithstanding any provision in the User Agreement to the contrary, you and we agree that \\nif we make any amendment to this Agreement to Arbitrate (other than an amendment to \\nany notice address or site link provided herein) in the future, that amendment shall not \\napply to any claim already filed in arbitration (or, where permitted, in court or small claims \\ncourt) against eBay prior to the effective date of the amendment. The amendment shall \\napply to all other disputes or claims governed by the Agreement to Arbitrate that have arisen \\nor may arise between you and eBay. We will notify you of material amendments to this \\nAgreement to Arbitrate. We will provide you 30 days\\' notice by posting the amended terms \\non www.eBay.com. Additionally, we will notify you through the eBay Message Center and/or \\nby email. If you do not agree to these amended terms, you may close your account within \\nthe 30-day period and you will not be bound by the amended terms. Your continued use of \\nor access to our Services, including the acceptance of any products or services sold, offered,'),\n",
       " Document(metadata={'producer': 'Microsoft® Word 2016', 'creator': 'Microsoft® Word 2016', 'creationdate': '2025-06-18T14:59:12+05:30', 'author': 'Shivani Gupta', 'moddate': '2025-06-18T14:59:12+05:30', 'source': 'C:\\\\Users\\\\ARYAN SURI\\\\Desktop\\\\Amlgo Labs Assignment\\\\data\\\\AI Training Document.pdf', 'total_pages': 20, 'page': 18, 'page_label': '19'}, page_content=\"or purchased through our Services following the posting of changes to this Agreement to \\nArbitrate constitutes your acceptance of any such changes. \\nC. Judicial Forum for Legal Disputes \\nIf the Agreement to Arbitrate above is found not to apply to you or to a particular claim, request for \\nrelief, or Dispute, either as a result of your decision to opt out of the Agreement to Arbitrate or as a \\nresult of a decision by the arbitrator or a court order, you agree that any claim or dispute between \\nyou and eBay will be resolved exclusively by a state or federal court located in Salt Lake County, Utah. \\nYou and eBay agree to submit exclusively to the personal jurisdiction of the courts located within Salt \\nLake County, Utah for the purpose of litigating all such claims, disputes, or matters. \\n20. General \\nExcept as otherwise provided in this User Agreement, if any provision of this User Agreement is held \\nto be invalid, void or for any reason unenforceable, such provision shall be struck out and shall not \\naffect the validity and enforceability of the remaining provisions. In our sole discretion, we may \\nassign this User Agreement, and in such event, we will post notice on www.ebay.com. \\nHeadings are for reference purposes only and do not limit the scope or extent of such section. Our \\nfailure to act with respect to a breach by you or others does not waive our right to act with respect \\nto subsequent or similar breaches. We do not guarantee we will take action against all breaches of \\nthis User Agreement. \\nWe may amend this User Agreement at any time by posting the amended terms on www.eBay.com. \\nOur right to amend the User Agreement includes the right to modify, add to, or remove terms in the \\nUser Agreement. We will provide you 30 days' notice by posting the amended terms. Additionally, we \\nwill notify you through the eBay Message Center and/or by email. Your continued access or use of \\nour Services constitutes your acceptance of the amended terms. We may also ask you to \\nacknowledge your acceptance of the User Agreement through an electronic click-through. This User \\nAgreement may not otherwise be amended except through mutual agreement by you and an eBay \\nrepresentative who intends to amend this User Agreement and is duly authorized to agree to such an \\namendment. \\nWithout limiting eBay's ability to refuse, modify, or terminate all or part of our Services, eBay may \\nalso terminate this Agreement with anyone at any time for any reason, at our sole discretion, by \\ngiving notice of such termination. \\nThe policies and terms posted on our Services may be changed from time to time. Changes take \\neffect when we post them on the eBay Service. \\nIf you create or use an account on behalf of a business entity, you represent that you are authorized \\nto act on behalf of such business and bind the business to this User Agreement. Such account is \\nowned and controlled by the business entity. No agency, partnership, joint venture, employee-\\nemployer or franchiser-franchisee relationship is intended or created by this User Agreement. \\nThe User Agreement and all terms and policies posted through our Services set forth the entire \\nunderstanding and agreement between you and eBay, and supersede all prior understandings and \\nagreements of the parties. \\nThe following sections survive any termination of this User Agreement: Fees and Taxes, Content, \\nHolds and Restricted Funds, Additional Terms, Payment Services, Disclaimer of Warranties; Limitation \\nof Liability; Release, Indemnity, Legal Disputes, and General.\"),\n",
       " Document(metadata={'producer': 'Microsoft® Word 2016', 'creator': 'Microsoft® Word 2016', 'creationdate': '2025-06-18T14:59:12+05:30', 'author': 'Shivani Gupta', 'moddate': '2025-06-18T14:59:12+05:30', 'source': 'C:\\\\Users\\\\ARYAN SURI\\\\Desktop\\\\Amlgo Labs Assignment\\\\data\\\\AI Training Document.pdf', 'total_pages': 20, 'page': 19, 'page_label': '20'}, page_content='If you are a California resident, in accordance with Cal. Civ. Code §1789.3, you may report complaints \\nto the Complaint Assistance Unit of the Division of Consumer Services of the California Department \\nof Consumer Affairs by contacting them in writing at 400 R Street, Sacramento, CA 95814, or by \\ntelephone at (800) 952-5210. \\nPursuant to 815 ILCS 414/1.5(c), for transactions involving tickets to events in Illinois, buyers and \\nsellers may elect to submit complaints against one another to the American Arbitration Association \\n(\"AAA\") under its rules and procedures. The AAA\\'s rules are available at www.adr .org. Such \\ncomplaints shall be decided by an independent arbitrator in accordance with this User Agreement. \\nBuyers and sellers further agree to submit to the jurisdiction of the State of Illinois for complaints \\ninvolving a ticketed event held in Illinois.')]"
      ]
     },
     "execution_count": 8,
     "metadata": {},
     "output_type": "execute_result"
    }
   ],
   "source": [
    "docs"
   ]
  },
  {
   "cell_type": "markdown",
   "id": "debe8f4c",
   "metadata": {},
   "source": [
    "## Splitting test using RecursiveCharacterTextSplitter"
   ]
  },
  {
   "cell_type": "code",
   "execution_count": 9,
   "id": "0bdf1069",
   "metadata": {},
   "outputs": [
    {
     "data": {
      "text/plain": [
       "[Document(metadata={'producer': 'Microsoft® Word 2016', 'creator': 'Microsoft® Word 2016', 'creationdate': '2025-06-18T14:59:12+05:30', 'author': 'Shivani Gupta', 'moddate': '2025-06-18T14:59:12+05:30', 'source': 'C:\\\\Users\\\\ARYAN SURI\\\\Desktop\\\\Amlgo Labs Assignment\\\\data\\\\AI Training Document.pdf', 'total_pages': 20, 'page': 0, 'page_label': '1'}, page_content='User Agreement \\n1. Introduction \\nThis User Agreement, the Mobile Application Terms of Use, and all policies and additional terms \\nposted on and in our sites, applications, tools, and services (collectively \"Services\") set out the terms'),\n",
       " Document(metadata={'producer': 'Microsoft® Word 2016', 'creator': 'Microsoft® Word 2016', 'creationdate': '2025-06-18T14:59:12+05:30', 'author': 'Shivani Gupta', 'moddate': '2025-06-18T14:59:12+05:30', 'source': 'C:\\\\Users\\\\ARYAN SURI\\\\Desktop\\\\Amlgo Labs Assignment\\\\data\\\\AI Training Document.pdf', 'total_pages': 20, 'page': 0, 'page_label': '1'}, page_content='on which eBay offers you access to and use of our Services. You can find an overview of our policies \\nhere. The Mobile Application Terms of Use, all policies, and additional terms posted on and in our'),\n",
       " Document(metadata={'producer': 'Microsoft® Word 2016', 'creator': 'Microsoft® Word 2016', 'creationdate': '2025-06-18T14:59:12+05:30', 'author': 'Shivani Gupta', 'moddate': '2025-06-18T14:59:12+05:30', 'source': 'C:\\\\Users\\\\ARYAN SURI\\\\Desktop\\\\Amlgo Labs Assignment\\\\data\\\\AI Training Document.pdf', 'total_pages': 20, 'page': 0, 'page_label': '1'}, page_content='Services are incorporated into this User Agreement. You agree to comply with all terms of this User \\nAgreement when accessing or using our Services. \\nThe entity you are contracting with is: eBay Inc., 2025 Hamilton Ave., San Jose, CA 95125, if you'),\n",
       " Document(metadata={'producer': 'Microsoft® Word 2016', 'creator': 'Microsoft® Word 2016', 'creationdate': '2025-06-18T14:59:12+05:30', 'author': 'Shivani Gupta', 'moddate': '2025-06-18T14:59:12+05:30', 'source': 'C:\\\\Users\\\\ARYAN SURI\\\\Desktop\\\\Amlgo Labs Assignment\\\\data\\\\AI Training Document.pdf', 'total_pages': 20, 'page': 0, 'page_label': '1'}, page_content='reside in the United States; eBay (UK) Limited, 1 More London Place, London, SE1 2AF, United \\nKingdom, if you reside in the United Kingdom; eBay GmbH, Albert-Einstein-Ring 2-6, 14532 \\nKleinmachnow, Germany, if you reside in the European Union; eBay Canada Limited, 240 Richmond'),\n",
       " Document(metadata={'producer': 'Microsoft® Word 2016', 'creator': 'Microsoft® Word 2016', 'creationdate': '2025-06-18T14:59:12+05:30', 'author': 'Shivani Gupta', 'moddate': '2025-06-18T14:59:12+05:30', 'source': 'C:\\\\Users\\\\ARYAN SURI\\\\Desktop\\\\Amlgo Labs Assignment\\\\data\\\\AI Training Document.pdf', 'total_pages': 20, 'page': 0, 'page_label': '1'}, page_content='Street West, 2nd Floor Suite 02-100, Toronto, ON, M5V 1V6, Canada, if you reside in Canada; eBay \\nSingapore Services Private Limited, 1 Raffles Quay, #18- 00, Singapore 048583, if you reside in India; \\nand eBay Marketplaces GmbH, Helvetiastrasse 15/17, CH-3005, Bern, Switzerland, if you reside in')]"
      ]
     },
     "execution_count": 9,
     "metadata": {},
     "output_type": "execute_result"
    }
   ],
   "source": [
    "from langchain.text_splitter import RecursiveCharacterTextSplitter\n",
    "text_splitter = RecursiveCharacterTextSplitter(chunk_size=300, chunk_overlap=50)\n",
    "documents  = text_splitter.split_documents(docs)\n",
    "documents[:5]"
   ]
  },
  {
   "cell_type": "code",
   "execution_count": 10,
   "id": "5d4717c6",
   "metadata": {},
   "outputs": [
    {
     "data": {
      "text/plain": [
       "'User Agreement \\n1. Introduction \\nThis User Agreement, the Mobile Application Terms of Use, and all policies and additional terms \\nposted on and in our sites, applications, tools, and services (collectively \"Services\") set out the terms'"
      ]
     },
     "execution_count": 10,
     "metadata": {},
     "output_type": "execute_result"
    }
   ],
   "source": [
    "documents[0].page_content"
   ]
  },
  {
   "cell_type": "code",
   "execution_count": 11,
   "id": "fd802be8",
   "metadata": {},
   "outputs": [],
   "source": [
    "texts = [doc.page_content for doc in documents]"
   ]
  },
  {
   "cell_type": "code",
   "execution_count": 12,
   "id": "2389b610",
   "metadata": {},
   "outputs": [
    {
     "data": {
      "text/plain": [
       "273"
      ]
     },
     "execution_count": 12,
     "metadata": {},
     "output_type": "execute_result"
    }
   ],
   "source": [
    "len(texts)"
   ]
  },
  {
   "cell_type": "markdown",
   "id": "514e0943",
   "metadata": {},
   "source": [
    "## Saving Chunks in chunks folder in JSON format"
   ]
  },
  {
   "cell_type": "code",
   "execution_count": 13,
   "id": "034b03eb",
   "metadata": {},
   "outputs": [],
   "source": [
    "import json\n",
    "\n",
    "with open(\"C:\\\\Users\\\\ARYAN SURI\\Desktop\\\\Amlgo Labs Assignment\\\\chunks\\\\chunks.json\", \"w\", encoding=\"utf-8\") as f:\n",
    "    json.dump(texts, f, ensure_ascii=False, indent=2)"
   ]
  },
  {
   "cell_type": "markdown",
   "id": "c1a92f54",
   "metadata": {},
   "source": [
    "## Using sentence embeddings to generate sentence embeddings"
   ]
  },
  {
   "cell_type": "code",
   "execution_count": 14,
   "id": "a1a20d0e",
   "metadata": {},
   "outputs": [
    {
     "name": "stderr",
     "output_type": "stream",
     "text": [
      "c:\\Users\\ARYAN SURI\\.conda\\envs\\amlgolabs\\lib\\site-packages\\torch\\nn\\modules\\module.py:1762: FutureWarning: `encoder_attention_mask` is deprecated and will be removed in version 4.55.0 for `BertSdpaSelfAttention.forward`.\n",
      "  return forward_call(*args, **kwargs)\n"
     ]
    }
   ],
   "source": [
    "from sentence_transformers import SentenceTransformer\n",
    "model = SentenceTransformer('sentence-transformers/all-MiniLM-L6-v2')\n",
    "embeddings = model.encode(texts)"
   ]
  },
  {
   "cell_type": "markdown",
   "id": "b51e826e",
   "metadata": {},
   "source": [
    "## Making Vectordb using FAISS Indexing"
   ]
  },
  {
   "cell_type": "code",
   "execution_count": 15,
   "id": "4126078b",
   "metadata": {},
   "outputs": [],
   "source": [
    "# Convert to float32 (FAISS requirement)\n",
    "faiss_embeddings = np.array(embeddings).astype(\"float32\")"
   ]
  },
  {
   "cell_type": "code",
   "execution_count": 16,
   "id": "9a781464",
   "metadata": {},
   "outputs": [],
   "source": [
    "import faiss\n",
    "index = faiss.IndexFlatL2(faiss_embeddings.shape[1])\n",
    "index.add(faiss_embeddings)"
   ]
  },
  {
   "cell_type": "code",
   "execution_count": 17,
   "id": "19d64db8",
   "metadata": {},
   "outputs": [],
   "source": [
    "faiss.write_index(index, \"vectordb/faissIndex.faiss\")"
   ]
  },
  {
   "cell_type": "markdown",
   "id": "a034ee95",
   "metadata": {},
   "source": [
    "## Looking at Top 5 queries from FAISS Index"
   ]
  },
  {
   "cell_type": "code",
   "execution_count": 18,
   "id": "d2095ce8",
   "metadata": {},
   "outputs": [],
   "source": [
    "def search_chunks(query, top_k=5):\n",
    "    # Encode the query using the same model\n",
    "    query_embedding = model.encode([query])\n",
    "    query_embedding = np.array(query_embedding).astype(\"float32\")\n",
    "    # Search the FAISS index\n",
    "    D, I = index.search(query_embedding, top_k)\n",
    "    # Collect results\n",
    "    results = []\n",
    "    for i, idx in enumerate(I[0]):\n",
    "        result = {\n",
    "            \"chunk\": texts[idx],\n",
    "            \"distance\": float(D[0][i])\n",
    "        }\n",
    "        results.append(result)\n",
    "    return results"
   ]
  },
  {
   "cell_type": "code",
   "execution_count": 19,
   "id": "2a01a98c",
   "metadata": {},
   "outputs": [
    {
     "name": "stdout",
     "output_type": "stream",
     "text": [
      "Result 1:\n",
      "Chunk: any other country. In this User Agreement, these entities are individually and collectively referred to \n",
      "as \"eBay,\" \"we,\" or \"us.\" \n",
      "If you reside in India and you register for our Services, you further agree to the eBay.in User \n",
      "Agreement.\n",
      "Distance: 0.7906412482261658\n",
      "\n",
      "Result 2:\n",
      "Chunk: Draper, UT 84020. eBay will send any Notice to you to the physical address we have on file \n",
      "associated with your eBay account; it is your responsibility to keep your physical address up \n",
      "to date. To be valid, you must personally sign the Notice and complete all information on the\n",
      "Distance: 0.8273691534996033\n",
      "\n",
      "Result 3:\n",
      "Chunk: eBay may contact you using autodialed or prerecorded calls and text messages, at any telephone \n",
      "number that you have provided us, to: (i) notify you regarding your account; (ii) troubleshoot \n",
      "problems with your account; (iii) resolve a dispute; (iv) collect a debt; (v) poll your opinions through\n",
      "Distance: 0.8355653285980225\n",
      "\n",
      "Result 4:\n",
      "Chunk: Privacy Notice. These service providers may contact you using autodialed or prerecorded calls and \n",
      "text messages, only as authorized by eBay to carry out the purposes identified above. \n",
      "eBay may, without further notice or warning and in its discretion, monitor or record telephone\n",
      "Distance: 0.8593913316726685\n",
      "\n",
      "Result 5:\n",
      "Chunk: reside in the United States; eBay (UK) Limited, 1 More London Place, London, SE1 2AF, United \n",
      "Kingdom, if you reside in the United Kingdom; eBay GmbH, Albert-Einstein-Ring 2-6, 14532 \n",
      "Kleinmachnow, Germany, if you reside in the European Union; eBay Canada Limited, 240 Richmond\n",
      "Distance: 0.8724795579910278\n",
      "\n"
     ]
    }
   ],
   "source": [
    "query = \"Address of the eBay contacted if residing in European Union?\"\n",
    "results = search_chunks(query, top_k=5)\n",
    "for i, res in enumerate(results, 1):\n",
    "    print(f\"Result {i}:\")\n",
    "    print(f\"Chunk: {res['chunk']}\")\n",
    "    print(f\"Distance: {res['distance']}\\n\")"
   ]
  },
  {
   "cell_type": "code",
   "execution_count": 48,
   "id": "1275808b",
   "metadata": {},
   "outputs": [],
   "source": [
    "from langchain.vectorstores import FAISS\n",
    "from langchain.embeddings.huggingface import HuggingFaceEmbeddings\n",
    "db = FAISS.from_documents(documents, \n",
    "                          HuggingFaceEmbeddings(model_name='sentence-transformers/all-mpnet-base-v2'))"
   ]
  },
  {
   "cell_type": "markdown",
   "id": "54f6712d",
   "metadata": {},
   "source": [
    "## VectorSearch DB using pinecone"
   ]
  },
  {
   "cell_type": "code",
   "execution_count": 20,
   "id": "85caeadd",
   "metadata": {},
   "outputs": [],
   "source": [
    "from pinecone import Pinecone\n",
    "\n",
    "pc = Pinecone(api_key=pc_key)"
   ]
  },
  {
   "cell_type": "code",
   "execution_count": 21,
   "id": "9290d069",
   "metadata": {},
   "outputs": [],
   "source": [
    "from pinecone import ServerlessSpec\n",
    "\n",
    "index_name = \"amlgolabs\"  # change if desired\n",
    "\n",
    "if not pc.has_index(index_name):\n",
    "    pc.create_index(\n",
    "        name=index_name,\n",
    "        dimension=89,\n",
    "        metric=\"cosine\",\n",
    "        spec=ServerlessSpec(cloud=\"aws\", region=\"us-east-1\"),\n",
    "    )\n",
    "\n",
    "index = pc.Index(index_name)"
   ]
  },
  {
   "cell_type": "code",
   "execution_count": 22,
   "id": "f4d6217b",
   "metadata": {},
   "outputs": [
    {
     "name": "stderr",
     "output_type": "stream",
     "text": [
      "C:\\Users\\ARYAN SURI\\AppData\\Local\\Temp\\ipykernel_88564\\4165911852.py:2: LangChainDeprecationWarning: The class `HuggingFaceEmbeddings` was deprecated in LangChain 0.2.2 and will be removed in 1.0. An updated version of the class exists in the :class:`~langchain-huggingface package and should be used instead. To use it run `pip install -U :class:`~langchain-huggingface` and import as `from :class:`~langchain_huggingface import HuggingFaceEmbeddings``.\n",
      "  pinecone_embedding = HuggingFaceEmbeddings(model_name=\"sentence-transformers/all-MiniLM-L6-v2\")\n"
     ]
    }
   ],
   "source": [
    "from langchain_community.embeddings import HuggingFaceEmbeddings\n",
    "pinecone_embedding = HuggingFaceEmbeddings(model_name=\"sentence-transformers/all-MiniLM-L6-v2\")"
   ]
  },
  {
   "cell_type": "code",
   "execution_count": 23,
   "id": "35f07006",
   "metadata": {},
   "outputs": [],
   "source": [
    "from langchain_pinecone import PineconeVectorStore\n",
    "\n",
    "vector_store = PineconeVectorStore(index=index, embedding=pinecone_embedding)"
   ]
  },
  {
   "cell_type": "code",
   "execution_count": 24,
   "id": "6d884c4f",
   "metadata": {},
   "outputs": [
    {
     "name": "stderr",
     "output_type": "stream",
     "text": [
      "c:\\Users\\ARYAN SURI\\.conda\\envs\\amlgolabs\\lib\\site-packages\\torch\\nn\\modules\\module.py:1762: FutureWarning: `encoder_attention_mask` is deprecated and will be removed in version 4.55.0 for `BertSdpaSelfAttention.forward`.\n",
      "  return forward_call(*args, **kwargs)\n"
     ]
    },
    {
     "data": {
      "text/plain": [
       "['915855bd-f4e9-41b9-a057-75e9db2b32c2',\n",
       " '5d957bf4-0d1a-4733-86c5-a6229be69560',\n",
       " '78ccc1c5-2ce2-4fd5-b690-d7008dadcdca',\n",
       " 'b1a7e5f8-47e1-4fd2-b1d9-f14e1f9c0b72',\n",
       " '2e8124e3-a659-4c16-8adf-c8f9068e486c',\n",
       " 'a5e6a07b-6aee-4658-a5b2-fd0407585f0d',\n",
       " '88130741-b643-4a86-ad8c-413aa05950a3',\n",
       " '19037f09-c4bd-4b26-aac4-afe6d0944763',\n",
       " 'c88fb76d-8e79-483c-96fb-f7780b4db785',\n",
       " '126b94f4-f185-48fb-88a2-da354cddb6fa',\n",
       " '1af7af5a-ad1f-429c-9adc-6a72eec92190',\n",
       " 'bdceadd6-2f8b-443b-8a6b-a59b06593564',\n",
       " '73775345-8b40-4309-8046-3f6c6811c839',\n",
       " '459ad104-5bd0-44d4-a9bf-571928fc00e0',\n",
       " '7a575d56-4abe-423c-814c-6aa06b5b0222',\n",
       " 'b270611c-cd7e-470e-890f-281738c1b99e',\n",
       " '4b2798e1-e0b9-4a86-be42-db45b8fc70e7',\n",
       " '0f4634af-1697-4cf7-801b-6e5cb991ad9b',\n",
       " '892d4ff5-6f74-4e32-8fe8-79cca143ab15',\n",
       " '1d01108c-938e-4f47-b8b0-84f2e3182bc0',\n",
       " '2d901cc4-a92e-4917-83d6-833bcb6e9f49',\n",
       " 'e08d4d0c-b44c-4093-864d-8c71bea8cd68',\n",
       " 'fdf3239a-7309-4699-a668-73a4774fe4c3',\n",
       " 'ae1fd863-0dd6-4b89-a61b-04a3e95e20e2',\n",
       " 'bfab5edd-eb15-4584-a4f2-d417a7b84c5e',\n",
       " 'a0a7ec66-cf9e-4240-9896-196da268473f',\n",
       " '07502ca8-29b4-4425-8cdb-fc507ee0d10d',\n",
       " '467237ac-5b7d-42cf-a740-edbf6819de82',\n",
       " '0dba39ad-c4ee-426d-9797-38b050520d80',\n",
       " '5ef8993c-d764-469a-a67a-1a3d1b11c89f',\n",
       " '2fef70c4-5459-4e81-b7a5-d5e2e6f6ea9d',\n",
       " 'cf9e430c-b631-4b65-bc69-819650674c81',\n",
       " '6c7ac0da-68ed-4d5f-bdd0-df851ff62ee3',\n",
       " '82dacafa-8edf-427d-b462-a25ab2d90001',\n",
       " '4c7c7b9f-b4d8-4fc0-9b93-1c42b752d581',\n",
       " '2e205709-5c25-4f19-be95-e7f1ebae90ce',\n",
       " '3ab12fcc-3ef1-493c-b540-066821186380',\n",
       " '3149e4c6-98c4-4518-9ec4-2025aa029386',\n",
       " '0efea6c5-48a3-4fb4-8ae6-89afcb510143',\n",
       " '4b32f20d-58e9-45d7-a62c-6107881ac46c',\n",
       " '7daeec16-3df9-4b52-a653-1431cc5eec8a',\n",
       " '5f23d49e-a02f-43b3-99c7-126602f46fa3',\n",
       " '4f7f11d2-8126-48c7-b11e-3f19661ef2b6',\n",
       " 'e613c658-f02c-414f-8ac3-c99cae27b3c6',\n",
       " '468ee11f-3c1d-42d8-a849-a3357acd7fa0',\n",
       " 'f9b47793-e59f-4276-9903-02e039a9c4bd',\n",
       " 'ee7bfcab-2692-44e2-80e9-40ec466f29d6',\n",
       " '043dd528-b90a-4457-bc41-832d1cc595d3',\n",
       " '5eb68318-68ee-4f87-8883-a4123becb2a9',\n",
       " '5f9ac4cc-e9c1-4ed4-b789-411171decedd',\n",
       " 'be72c3c9-85c9-4cec-b478-180f8c1f7ddf',\n",
       " '834a2791-2af3-4780-9ade-74a5e1bfc012',\n",
       " '5af5ad9d-f785-42e3-9c26-c4ee7a92d8dd',\n",
       " 'e1792055-d2e2-413c-828d-61297e599b9a',\n",
       " '10936f1b-9813-420a-a2a4-02e5076f3c91',\n",
       " '1b51c051-b88d-43cd-8e02-b117f2963012',\n",
       " '2fe60d06-e288-4b89-ad41-06a6cf3baff4',\n",
       " '00f93ccc-e3b9-4345-950e-e8535a43772e',\n",
       " 'f5a3ede6-24f3-4168-ad04-4ddb9b788460',\n",
       " '030b1e25-ea84-4648-9f27-1925f7478645',\n",
       " 'c13cd4a6-0662-4f38-ae80-63f102d215a4',\n",
       " 'bf1201e4-4316-4342-9ab0-697445b2846c',\n",
       " '08a328b5-ce44-49ae-9a48-cdc773488f0e',\n",
       " '85c6dd37-1fbf-4b3a-b048-08c00c2fb95c',\n",
       " '2cc8f2c5-cbc6-4df2-8467-5aed3edbfd8d',\n",
       " 'b64df720-6b67-4a8e-b477-0576f0105d79',\n",
       " '3b0df674-8873-48cc-a3e0-576679f36c25',\n",
       " 'f7d1cc8a-b60d-4c5b-a463-770ce85ac361',\n",
       " 'db7de81d-2d89-4996-8815-a48c854e75d1',\n",
       " '58ddd29e-f5f0-46dc-83b2-570f47eadbfa',\n",
       " '01c20f23-48f6-4a0f-9980-4aee1f6d610e',\n",
       " '0c7c9601-6730-42aa-8145-81225ff53e44',\n",
       " '27079502-2411-4f1a-a2cd-9e9188ba5a0a',\n",
       " '93258f6c-b859-416d-82ca-841c36d9a49d',\n",
       " '5bea260e-9e78-4339-beca-2f1065400577',\n",
       " '64891589-5dbd-495d-a2c0-fded5e51324e',\n",
       " '7e1742a6-e42e-4fd5-98c3-f09d3e82801f',\n",
       " 'dcaa6e54-ac70-4018-ab31-fd02fd42c010',\n",
       " '3cdd03e1-3f67-4aa5-931c-f9b21c9ffaf5',\n",
       " 'c4dce506-dd56-4faa-b1aa-44b6d93287cb',\n",
       " '7d15e339-d457-4dc9-8c8b-82887cf5c4ab',\n",
       " 'cb8d1943-7dab-47ad-8085-d3aa025156b6',\n",
       " '4b0e8c68-d337-4c44-8137-0b0be0b9c30b',\n",
       " '0ad42aa9-c76f-4375-93ae-f2408848200c',\n",
       " 'ee68c2d8-b258-43f0-ae7d-d96a59cf0d32',\n",
       " '341449e7-0e2f-4f6b-b092-1062ba97b406',\n",
       " '0aa70c76-7290-4931-a9cf-f3214b5527cf',\n",
       " '96f595c4-7817-4abc-be45-8d25507dc56b',\n",
       " '79543956-b08f-42fe-a959-bda1a45dfc93',\n",
       " 'e816371b-8fab-4c41-827e-c88159de126d',\n",
       " '86d23bff-8656-4b27-b459-5f9d344be740',\n",
       " '61c4825f-98ed-4c5b-96a9-2a5ebc89a0be',\n",
       " 'e2c3d566-712e-41bc-aca0-2067aa30b37c',\n",
       " 'c34c8b0c-3d05-41f3-8d82-3b91f0a52550',\n",
       " '5cc21a08-1922-41a2-beb6-98df80b26921',\n",
       " 'a2f28e56-2b5e-48d1-a27a-f37fb70a3311',\n",
       " '8e7af9b2-f361-4af9-bed8-53eb8b24115e',\n",
       " 'e5b644e8-b7ac-4a2d-9957-cd5e57b51f1a',\n",
       " '542862b7-aa4c-4cb1-956c-769dc758830c',\n",
       " '02c1e579-bcf3-447b-bf9f-4b75eabd53b4',\n",
       " '141e0bfb-b9a1-418f-9c83-900161324841',\n",
       " '5641c65e-7f93-46ad-b7d3-bb722129dea8',\n",
       " '3b1c3d1c-b391-4aab-add0-deb5e1bee83d',\n",
       " '4ce1228d-5b1a-40d9-a332-1f76eec87271',\n",
       " '4f903e61-5c52-4264-82e5-873852b90315',\n",
       " 'c8d0ff59-d47a-45bb-82d9-41366ab370fe',\n",
       " '1ac00c37-adf2-4e87-8ce4-4c67d5094d19',\n",
       " '5e7ce838-7039-44d9-ba0c-e72f53cfb6bb',\n",
       " '02de118a-2f5f-40d1-9d55-0ee2a3489c27',\n",
       " '3b022b65-8d80-47a8-b1ff-65f0df7960b4',\n",
       " '11ab12b3-0061-4016-bc5a-af84c330bc8f',\n",
       " '93bf2209-a397-4f02-8a6f-9e842cf89c5e',\n",
       " '2edcdf6d-768f-4b1b-98d5-ab159dfc1ea9',\n",
       " '492a44e7-a08e-41ca-9192-d799f8a8b2d8',\n",
       " '9997105a-2152-487b-8a2b-4906ac9a1599',\n",
       " '9053cecf-e9af-4f49-b419-d4fc1c5624dd',\n",
       " 'd07fe83e-c400-4477-b481-c02548882312',\n",
       " '42411877-0a03-466f-a4dd-85caba12beca',\n",
       " 'fe90d05e-9b5f-4a09-946f-954b0682b050',\n",
       " 'bc4755e0-757c-46d7-9971-e791292d702f',\n",
       " '59fc7e68-aa31-453b-9c17-b13a20fde5d4',\n",
       " '1a656c3a-3efd-4085-b449-9f15ef7c116f',\n",
       " 'a1f8b6f9-38ee-4f57-9f2c-50611c5fe029',\n",
       " '2093e0f0-2bb1-4d04-92cc-373bc6e0842f',\n",
       " 'a386a99c-bf30-4f51-88df-4076a2685dd8',\n",
       " '066c3e93-d803-40de-994a-b8710b81211a',\n",
       " 'f9461aee-ea26-4ef7-b6bb-77c63273a8fe',\n",
       " 'b0d9c0dc-83ed-4d1d-9f48-ffccb3279410',\n",
       " '3baff6da-0af7-4ec6-8598-89929d926f0e',\n",
       " '83d49483-068f-4c90-86b4-1a3f2335f589',\n",
       " '47cd4876-b582-47ce-9fd2-f6288b8ac648',\n",
       " 'c9f7a319-d0c3-4a19-b226-d29dc5524528',\n",
       " '208e33ad-de6a-48ec-844a-5a4c3969a068',\n",
       " 'e1989e0f-3713-415d-b22e-032ac41a5679',\n",
       " 'f3c972cb-84e9-4c93-a777-071bfc718396',\n",
       " 'e5a31cf5-e812-4f06-a59a-81abc3cd1b4d',\n",
       " 'c523ac56-3900-4855-95b8-7b322984ed13',\n",
       " '1788c716-bca0-4bd4-8655-095b8c39b1e1',\n",
       " '000af297-71d5-4730-a6e8-237aa4034129',\n",
       " '2f6730a8-1c0b-4357-9442-a4f5182ba045',\n",
       " 'a74fcfcf-f798-40ed-bcd3-e54d0c447ee3',\n",
       " '4cc9fb4f-bc01-41a7-b040-7371e3d2b604',\n",
       " '048e89b1-1e4e-4d74-902a-749a5f8d2375',\n",
       " 'f5cc3d8c-6317-4987-b4fc-ff8f95725b55',\n",
       " '24e6007e-a3b9-4c8f-b4cc-af327fc67bfb',\n",
       " '4f586434-6b7e-4f0b-a124-e79444b1068c',\n",
       " '2f20a877-91c1-46d0-886b-cdfaa10365c2',\n",
       " '981f5022-2a0d-4ca2-a626-41c33d272a85',\n",
       " 'af4c4c8d-2fb8-4985-9660-2408983b2d91',\n",
       " 'ccc677a2-588d-44a4-8486-caf82e969719',\n",
       " '0c0c0be5-9613-4308-8eef-c934b32e6aa2',\n",
       " '73be3725-7421-4a2d-afeb-c9e8af777829',\n",
       " 'fbed5a27-ce94-4157-9ed3-5da2ac53f2ef',\n",
       " '6794f92f-dcb1-4585-833a-8f6bf7da4df0',\n",
       " 'e1edd9a7-5b28-4630-bdeb-87fb68d526e2',\n",
       " '97ca7162-2c0c-4fcf-ad49-1e6be5fe6224',\n",
       " '76d9fc59-4452-48a6-9cca-d43595a98031',\n",
       " '54e72e6a-3fdd-42dd-99e2-b932ed722390',\n",
       " '23c1a12b-de68-41d1-ab29-3c2057aaedcb',\n",
       " 'd3bc73de-137a-43b6-aa2a-b495038c6d04',\n",
       " '426c0e74-81eb-483d-83b9-999cd60b745f',\n",
       " 'e215a088-a91c-4622-b7c1-ea1f9a185cae',\n",
       " '0adb7d4e-5e14-4ee9-91e7-6e615c97e782',\n",
       " 'cc831762-46ad-48a9-b5b7-56b743436c37',\n",
       " '0a32caf7-1940-4e81-bd08-27fe64858469',\n",
       " 'df247885-3419-43a4-a6d7-102348ceccdc',\n",
       " '6cdc2f53-43a9-4825-b1ec-f28eed9fe500',\n",
       " '61d9c7b2-d5f9-4b6e-a2f0-b1272bf0daa7',\n",
       " 'cea207e9-508f-4ea8-9995-4a0ba3c2d521',\n",
       " 'fcb55a66-62a3-4ebd-a78b-89288ffd16b1',\n",
       " '2c8a2080-8f84-4784-880c-6d177a0c4f6c',\n",
       " '1663d4f5-8f33-4300-bbc6-7b0340ada180',\n",
       " 'f9b62f68-1809-4d2c-8895-2bc9b87d7aca',\n",
       " '79802edd-0a21-4477-807d-04d5f2a8e6fd',\n",
       " '5d56883d-477c-40f2-9c9e-f236674019c0',\n",
       " 'a3152745-1adf-4579-a1b4-cf65a296db5f',\n",
       " 'ecc7409b-775d-4d63-9766-af48b32fc547',\n",
       " '36a02647-ed86-496a-9372-fb9a1bf4c072',\n",
       " 'c9b7944f-db06-48c3-af88-91cf382e18e6',\n",
       " '6f14bb98-443f-4625-8990-bfc55a77abe3',\n",
       " '9ac54a41-bd69-4018-b214-06626a15361f',\n",
       " 'aee75c1d-bc05-4ec4-bd71-64dfd06116ff',\n",
       " '35787225-8b23-4264-a28f-5110d831f745',\n",
       " 'ed076a6c-c3e7-4038-903c-a0c24c39dd50',\n",
       " '2927013b-3dc0-4f27-9b87-243000dba2b1',\n",
       " '6c0c1419-eacd-4cb5-8563-68a3d3c2c5dd',\n",
       " '4ed9dc7f-8d16-438c-92ea-d5c21b0503a4',\n",
       " '4fbb6387-50bf-4cb4-8c70-f7c5aabad036',\n",
       " '7ef06360-ab6e-4f8f-89af-aa1bb31bef69',\n",
       " 'a1caee66-b385-4b81-b912-6520f2a985c0',\n",
       " '1b24b695-2096-4b6a-963f-761786638f74',\n",
       " '022817dd-be42-4bc5-aee7-706d90389417',\n",
       " '1e662b73-f72f-4433-b998-e68e9139284a',\n",
       " '4c784b32-dcd0-48ee-9dda-38b9b2ecd171',\n",
       " '2f405bb7-cbb6-42fe-87ca-a176ed27cd9c',\n",
       " '4a4f99ba-1057-446d-b938-b2ce38f4101b',\n",
       " '91256114-e684-48a3-81bb-a37e3f99ffa0',\n",
       " 'bcbb5a2c-0c61-48a8-8c24-2db7910e61e2',\n",
       " '9be9aee9-4ac2-4d1a-99f3-98a57328f321',\n",
       " 'c1e580b7-9cdf-4e51-8b2b-a19e8e2a72bb',\n",
       " '53e706f9-eb79-426e-8277-ab3be1eea925',\n",
       " 'f892c452-a1e9-4275-8046-bab6bfdf7569',\n",
       " 'a8f859ea-9930-43af-9812-649871b21a30',\n",
       " '47eb08ea-c1df-409e-82c3-4a0693575ab8',\n",
       " 'fbc0854d-281a-4ee7-b47b-32c9ac238ef1',\n",
       " '5b21a7e1-0ab3-4e1d-bc94-202dfb44859a',\n",
       " '144be336-a8da-49ea-a64e-127b34e6e0c5',\n",
       " 'e62dfc15-20c1-4083-89f4-5943d586b838',\n",
       " 'b879b618-fc83-48f0-8bec-2afe874cb81e',\n",
       " '8e0b5463-ea5c-4288-9002-5824bc9cfe56',\n",
       " '0ac16498-14fc-49d7-96bf-1b816c3464bc',\n",
       " '1305d88d-abbf-4ed1-9c54-885bf6d304b9',\n",
       " '86e0afca-1f31-4d63-b005-517509e4dbfd',\n",
       " 'bdf7fcab-8cef-4f2d-8a76-c28da96818f5',\n",
       " '8eb5728a-3da3-498b-9dc9-4b5add9d3a0d',\n",
       " 'aefd0327-8ca2-47d1-a476-7a8b8f47cb90',\n",
       " 'bc0bc969-2968-41b5-a76b-27db5a90cf56',\n",
       " 'e014e8eb-971c-4087-958c-b7f122f8b37a',\n",
       " '3a0ec21e-65db-4a19-8f97-8c5b471b973e',\n",
       " '06d0ab82-f10f-402f-a87e-939ab96a2549',\n",
       " 'ef54a41d-e4d9-4d79-901f-06f0c95699fc',\n",
       " 'acc529cf-f62d-46d5-9c2c-46d0f428445b',\n",
       " '5494c661-b213-4720-bc1d-3906023eb9f3',\n",
       " '22e138ea-27b1-4f36-85e2-1c46b96f3b6a',\n",
       " '1ee049a9-f1cd-453e-bcde-3e69b2c13c91',\n",
       " '119cd049-c4b6-43fc-bc3d-dab69fc5eeb5',\n",
       " '6095b6be-111a-424d-ad2a-d84508461cf8',\n",
       " 'b5c267bb-cfd2-45f3-9a4a-860cacbdcce5',\n",
       " 'a590915d-a698-406f-84b3-a9b8a5574ccc',\n",
       " '87a02a70-c8d2-41c9-9b32-a094fcbf0919',\n",
       " '2ebe9db3-4a91-42ea-a99f-16dfc304687f',\n",
       " '9145c9a7-4170-4da8-bb57-46180d659f71',\n",
       " '2a97e3ad-56e8-4cef-b981-6dc0af366045',\n",
       " '37c3e0c6-bd55-45cf-857b-b62c1cd6d4c6',\n",
       " '2457d67a-e2f4-4e4c-894a-46cca3e735a1',\n",
       " '674141f0-c80c-44ae-a6d9-edbe28eca5e2',\n",
       " 'bd151932-14ae-4cc9-bac6-5f85d261f0b7',\n",
       " '72cf9eb9-09f8-4a98-bf13-4def67ba4a1f',\n",
       " 'b996d570-72b8-400c-876e-7d2158ed4c45',\n",
       " '5e72227a-ba2a-4aa0-a963-1fd86f8b8b19',\n",
       " 'ac50fa03-5a7c-4eb3-b80e-1b84ed2e7ace',\n",
       " 'df68478e-fc5c-4bd1-9d59-30bfc97877b8',\n",
       " 'bddc61ab-c001-4b5c-b462-cc350e2dea6b',\n",
       " '50959829-2659-40ff-9c45-23175c9a1864',\n",
       " 'e3d68be4-fc77-4ec5-927d-d78a04320f7b',\n",
       " 'f7ddcdf3-32e0-44c7-abf5-f5d233c70033',\n",
       " 'ea28dd6e-c98a-44a0-9ddb-028dddb0b2a6',\n",
       " '72469d44-b2a0-4cdb-9099-4fa19da50bf3',\n",
       " '04ebb171-b92c-49a1-b9bf-a6724a3fa654',\n",
       " 'e2b9eaec-145f-4c37-9165-ac253694f518',\n",
       " '60f88aa9-c2f6-4104-a973-36345dca7e9b',\n",
       " '87fbf8c2-6ddc-4754-9d2a-5ecb37e2295f',\n",
       " '0b1d35d9-e6d8-4965-b2c9-121bc849f690',\n",
       " '43ec3105-dc8b-48f6-a1a2-7843a60e37ac',\n",
       " '827a56dc-f322-404f-8239-6be40f395950',\n",
       " '10aec235-8ce3-4e90-9f96-2ee97dbac8b8',\n",
       " '8eef3190-a600-427b-ba99-0e3160a1d36b',\n",
       " '31b55649-d6ef-48f8-95b8-5472710737b9',\n",
       " 'a4e4cb81-b52a-4ddd-b4c4-759e8b089650',\n",
       " 'a6fd6451-63a2-48fc-9d63-c1fb98c3e790',\n",
       " '9f4d4d43-9351-4cf1-805e-fbc1ee40a18a',\n",
       " '98431b5b-e7ab-4351-aaf2-ab1193f99f1f',\n",
       " '9d874047-4a1c-4c83-93ac-2ae1aeb41662',\n",
       " '96c400fe-81e0-4e1f-bc44-3fc4dc57d572',\n",
       " '4cdf065c-5395-4395-93f6-ff30c2d0d057',\n",
       " '68a81880-c51d-4e49-be95-2a959b8c423f',\n",
       " '22adf5d8-458e-40be-a885-36ace034d0e0',\n",
       " 'c0e59f39-8c9a-4e2e-a019-aea0bebebf73',\n",
       " 'ceba0f71-e7a2-462d-a9b2-4e397b4534b7',\n",
       " 'ae6a0066-6ac6-43b5-b2bf-2ebc2de4eada',\n",
       " '4e169f1e-1662-4177-a86d-f29d354615d2',\n",
       " 'e215a97e-35bc-4164-94e0-b5eadfc2e4e8',\n",
       " '3861d36b-b086-4f2e-9968-8638eccb41eb']"
      ]
     },
     "execution_count": 24,
     "metadata": {},
     "output_type": "execute_result"
    }
   ],
   "source": [
    "from uuid import uuid4\n",
    "uuids = [str(uuid4()) for _ in range(len(documents))]\n",
    "vector_store.add_documents(documents=documents, ids=uuids)"
   ]
  },
  {
   "cell_type": "code",
   "execution_count": 25,
   "id": "4c7252d5",
   "metadata": {},
   "outputs": [
    {
     "name": "stdout",
     "output_type": "stream",
     "text": [
      "* Kingdom, if you reside in the United Kingdom; eBay GmbH, Albert-Einstein-Ring 2-6, 14532 \n",
      "Kleinmachnow, Germany, if you reside in the European Union; eBay Canada Limited, 240 Richmond \n",
      "Street West, 2nd Floor Suite 02-100, Toronto, ON, M5V 1V6, Canada, if you reside in Canada; eBay \n",
      "Singapore Services Private Limited, 1 Raffles Quay, #18- 00, Singapore 048583, if you reside in India; \n",
      "and eBay Marketplaces GmbH, Helvetiastrasse 15/17, CH-3005, Bern, Switzerland, if you reside in \n",
      "any other country. In this User Agreement, these entities are individually and collectively referred to \n",
      "as \"eBay,\" \"we,\" or \"us.\" \n",
      "If you reside in India and you register for our Services, you further agree to the eBay.in User \n",
      "Agreement. \n",
      "Read this User Agreement carefully as it contains provisions that govern how claims you and we have \n",
      "against each other are resolved (see \"Disclaimer of Warranties; Limitation of Liability\" and \"Legal\n",
      "* any other country. In this User Agreement, these entities are individually and collectively referred to \n",
      "as \"eBay,\" \"we,\" or \"us.\" \n",
      "If you reside in India and you register for our Services, you further agree to the eBay.in User \n",
      "Agreement.\n"
     ]
    }
   ],
   "source": [
    "results = vector_store.similarity_search(\n",
    "    \"Address of the eBay contacted if residing in European Union?\",\n",
    "    k=2\n",
    ")\n",
    "for res in results:\n",
    "    print(f\"* {res.page_content}\")"
   ]
  },
  {
   "cell_type": "markdown",
   "id": "d2cd5345",
   "metadata": {},
   "source": [
    "## Using Mistral on above retriever(pinecone/faiss) as the generator"
   ]
  },
  {
   "cell_type": "code",
   "execution_count": 1,
   "id": "c6e40e7d",
   "metadata": {},
   "outputs": [],
   "source": [
    "import transformers\n",
    "\n",
    "\n",
    "model_name='mistralai/Mistral-7B-Instruct-v0.1'\n",
    "\n",
    "model_config = transformers.AutoConfig.from_pretrained(\n",
    "    model_name,\n",
    ")\n",
    "\n",
    "tokenizer = transformers.AutoTokenizer.from_pretrained(model_name, trust_remote_code=True)\n",
    "tokenizer.pad_token = tokenizer.eos_token\n",
    "tokenizer.padding_side = \"right\""
   ]
  },
  {
   "cell_type": "markdown",
   "id": "ca9cde9d",
   "metadata": {},
   "source": []
  },
  {
   "cell_type": "code",
   "execution_count": 2,
   "id": "c496607f",
   "metadata": {},
   "outputs": [],
   "source": [
    "# Activate 4-bit precision base model loading\n",
    "use_4bit = True\n",
    "\n",
    "# Compute dtype for 4-bit base models\n",
    "bnb_4bit_compute_dtype = \"float16\"\n",
    "\n",
    "# Quantization type (fp4 or nf4)\n",
    "bnb_4bit_quant_type = \"nf4\"\n",
    "\n",
    "# Activate nested quantization for 4-bit base models (double quantization)\n",
    "use_nested_quant = False"
   ]
  },
  {
   "cell_type": "code",
   "execution_count": 3,
   "id": "06f6dff2",
   "metadata": {},
   "outputs": [
    {
     "name": "stdout",
     "output_type": "stream",
     "text": [
      "================================================================================\n",
      "Your GPU supports bfloat16: accelerate training with bf16=True\n",
      "================================================================================\n"
     ]
    }
   ],
   "source": [
    "import torch\n",
    "from transformers import BitsAndBytesConfig, AutoModelForCausalLM\n",
    "\n",
    "compute_dtype = getattr(torch, bnb_4bit_compute_dtype)\n",
    "\n",
    "bnb_config = BitsAndBytesConfig(\n",
    "    load_in_4bit=use_4bit,\n",
    "    bnb_4bit_quant_type=bnb_4bit_quant_type,\n",
    "    bnb_4bit_compute_dtype=compute_dtype,\n",
    "    bnb_4bit_use_double_quant=use_nested_quant,\n",
    ")\n",
    "\n",
    "# Check GPU compatibility with bfloat16\n",
    "if compute_dtype == torch.float16 and use_4bit:\n",
    "    major, _ = torch.cuda.get_device_capability()\n",
    "    if major >= 8:\n",
    "        print(\"=\" * 80)\n",
    "        print(\"Your GPU supports bfloat16: accelerate training with bf16=True\")\n",
    "        print(\"=\" * 80)"
   ]
  },
  {
   "cell_type": "code",
   "execution_count": 27,
   "id": "c4e59378",
   "metadata": {},
   "outputs": [
    {
     "data": {
      "application/vnd.jupyter.widget-view+json": {
       "model_id": "d136acf83c65477a891ae4d32932bb1a",
       "version_major": 2,
       "version_minor": 0
      },
      "text/plain": [
       "Loading checkpoint shards:   0%|          | 0/2 [00:00<?, ?it/s]"
      ]
     },
     "metadata": {},
     "output_type": "display_data"
    }
   ],
   "source": [
    "model_llm = AutoModelForCausalLM.from_pretrained(\n",
    "    model_name,\n",
    "    quantization_config=bnb_config,\n",
    ")"
   ]
  },
  {
   "cell_type": "code",
   "execution_count": null,
   "id": "de046e3a",
   "metadata": {},
   "outputs": [],
   "source": [
    "query = \"Address of the eBay contacted if residing in European Union?\""
   ]
  },
  {
   "cell_type": "code",
   "execution_count": 71,
   "id": "ec3f67d1",
   "metadata": {},
   "outputs": [
    {
     "name": "stderr",
     "output_type": "stream",
     "text": [
      "Device set to use cuda:0\n"
     ]
    }
   ],
   "source": [
    "from langchain.llms import HuggingFacePipeline\n",
    "from langchain.prompts import PromptTemplate\n",
    "from langchain.embeddings.huggingface import HuggingFaceEmbeddings\n",
    "from langchain.chains import LLMChain\n",
    "\n",
    "text_generation_pipeline = transformers.pipeline(\n",
    "    model=model_llm,\n",
    "    tokenizer=tokenizer,\n",
    "    task=\"text-generation\",\n",
    "    temperature=0.2,\n",
    "    repetition_penalty=1.1,\n",
    "    return_full_text=True,\n",
    "    max_new_tokens=300,\n",
    ")\n",
    "\n",
    "prompt_template = \"\"\"\n",
    "### [INST]\n",
    "You are a helpful assistant. Use the information from the context below to answer the user's question.\n",
    "If the answer is not in the context, say \"The document does not contain that information.\"\n",
    "\n",
    "Context:\n",
    "{context}\n",
    "\n",
    "Question: {question}\n",
    "[/INST]\n",
    "\"\"\"\n",
    "\n",
    "\n",
    "mistral_llm = HuggingFacePipeline(pipeline=text_generation_pipeline)\n",
    "\n",
    "# Create prompt from prompt template \n",
    "prompt = PromptTemplate(\n",
    "    input_variables=[\"context\", \"question\"],\n",
    "    template=prompt_template,\n",
    ")\n",
    "\n",
    "# Create llm chain \n",
    "llm_chain = LLMChain(llm=mistral_llm, prompt=prompt)"
   ]
  },
  {
   "cell_type": "code",
   "execution_count": 80,
   "id": "ab9b2108",
   "metadata": {},
   "outputs": [],
   "source": [
    "retriever = db.as_retriever()\n",
    "def format_docs(docs):\n",
    "    return \"\\n\\n\".join([doc.page_content for doc in docs])"
   ]
  },
  {
   "cell_type": "code",
   "execution_count": 81,
   "id": "90c79a79",
   "metadata": {},
   "outputs": [],
   "source": [
    "from langchain_core.runnables import RunnablePassthrough\n",
    "query = \"Tell me about eBay?\"\n",
    "rag_chain = ( \n",
    " {\"context\": retriever|format_docs, \"question\": RunnablePassthrough()}\n",
    "    | llm_chain\n",
    ")\n",
    "answer = rag_chain.invoke(query)"
   ]
  },
  {
   "cell_type": "code",
   "execution_count": 82,
   "id": "3ab2ab05",
   "metadata": {},
   "outputs": [
    {
     "data": {
      "text/plain": [
       "{'context': 'trial. \\n2. About eBay \\neBay is a marketplace that allows users to offer, sell, and buy goods and services in various \\ngeographic locations using a variety of pricing formats. eBay is not a party to contracts for sale \\nbetween third-party sellers and buyers, nor is eBay a traditional auctioneer.\\n\\nPayments for goods and services sold using our Services are facilitated by designated eBay entities \\n(each, an \"eBay Payment Entity\") pursuant to the Payments Terms of Use. You agree to the Payments\\n\\neBay\\'s applications may not occur in real time. Such functionality is subject to delays beyond eBay\\'s \\ncontrol. \\nYOU AGREE THAT YOU ARE MAKING USE OF OUR SERVICES AT YOUR OWN RISK, AND THAT THEY ARE \\nBEING PROVIDED TO YOU ON AN \"AS IS\" AND \"AS AVAILABLE\" BASIS. ACCORDINGLY , TO THE EXTENT\\n\\nconversations you or anyone acting on your behalf has with eBay or its agents for quality control and \\ntraining purposes, or for its own protection. \\neBay\\'s automated systems scan and analyze the contents of every message sent through its',\n",
       " 'question': 'Tell me about eBay?',\n",
       " 'text': '\\n### [INST]\\nYou are a helpful assistant. Use the information from the context below to answer the user\\'s question.\\nIf the answer is not in the context, say \"The document does not contain that information.\"\\n\\nContext:\\ntrial. \\n2. About eBay \\neBay is a marketplace that allows users to offer, sell, and buy goods and services in various \\ngeographic locations using a variety of pricing formats. eBay is not a party to contracts for sale \\nbetween third-party sellers and buyers, nor is eBay a traditional auctioneer.\\n\\nPayments for goods and services sold using our Services are facilitated by designated eBay entities \\n(each, an \"eBay Payment Entity\") pursuant to the Payments Terms of Use. You agree to the Payments\\n\\neBay\\'s applications may not occur in real time. Such functionality is subject to delays beyond eBay\\'s \\ncontrol. \\nYOU AGREE THAT YOU ARE MAKING USE OF OUR SERVICES AT YOUR OWN RISK, AND THAT THEY ARE \\nBEING PROVIDED TO YOU ON AN \"AS IS\" AND \"AS AVAILABLE\" BASIS. ACCORDINGLY , TO THE EXTENT\\n\\nconversations you or anyone acting on your behalf has with eBay or its agents for quality control and \\ntraining purposes, or for its own protection. \\neBay\\'s automated systems scan and analyze the contents of every message sent through its\\n\\nQuestion: Tell me about eBay?\\n[/INST]\\neBay is a marketplace that allows users to offer, sell, and buy goods and services in various geographic locations using a variety of pricing formats. It is not a party to contracts for sale between third-party sellers and buyers, nor is it a traditional auctioneer. Payments for goods and services sold using eBay\\'s services are facilitated by designated eBay entities (each, an \"eBay Payment Entity\") pursuant to the Payments Terms of Use. You agree to these terms when you use eBay\\'s services. eBay\\'s applications may not occur in real time and are subject to delays beyond eBay\\'s control. You agree to use eBay\\'s services at your own risk and on an \"as is\" and \"as available\" basis. Conversations you have with eBay or its agents for quality control and training purposes, or for its own protection, are subject to eBay\\'s automated systems scanning and analyzing the contents of every message sent through its platform.'}"
      ]
     },
     "execution_count": 82,
     "metadata": {},
     "output_type": "execute_result"
    }
   ],
   "source": [
    "answer"
   ]
  },
  {
   "cell_type": "code",
   "execution_count": 83,
   "id": "7a36fd27",
   "metadata": {},
   "outputs": [
    {
     "name": "stdout",
     "output_type": "stream",
     "text": [
      "\n",
      "### [INST]\n",
      "You are a helpful assistant. Use the information from the context below to answer the user's question.\n",
      "If the answer is not in the context, say \"The document does not contain that information.\"\n",
      "\n",
      "Context:\n",
      "trial. \n",
      "2. About eBay \n",
      "eBay is a marketplace that allows users to offer, sell, and buy goods and services in various \n",
      "geographic locations using a variety of pricing formats. eBay is not a party to contracts for sale \n",
      "between third-party sellers and buyers, nor is eBay a traditional auctioneer.\n",
      "\n",
      "Payments for goods and services sold using our Services are facilitated by designated eBay entities \n",
      "(each, an \"eBay Payment Entity\") pursuant to the Payments Terms of Use. You agree to the Payments\n",
      "\n",
      "eBay's applications may not occur in real time. Such functionality is subject to delays beyond eBay's \n",
      "control. \n",
      "YOU AGREE THAT YOU ARE MAKING USE OF OUR SERVICES AT YOUR OWN RISK, AND THAT THEY ARE \n",
      "BEING PROVIDED TO YOU ON AN \"AS IS\" AND \"AS AVAILABLE\" BASIS. ACCORDINGLY , TO THE EXTENT\n",
      "\n",
      "conversations you or anyone acting on your behalf has with eBay or its agents for quality control and \n",
      "training purposes, or for its own protection. \n",
      "eBay's automated systems scan and analyze the contents of every message sent through its\n",
      "\n",
      "Question: Tell me about eBay?\n",
      "[/INST]\n",
      "eBay is a marketplace that allows users to offer, sell, and buy goods and services in various geographic locations using a variety of pricing formats. It is not a party to contracts for sale between third-party sellers and buyers, nor is it a traditional auctioneer. Payments for goods and services sold using eBay's services are facilitated by designated eBay entities (each, an \"eBay Payment Entity\") pursuant to the Payments Terms of Use. You agree to these terms when you use eBay's services. eBay's applications may not occur in real time and are subject to delays beyond eBay's control. You agree to use eBay's services at your own risk and on an \"as is\" and \"as available\" basis. Conversations you have with eBay or its agents for quality control and training purposes, or for its own protection, are subject to eBay's automated systems scanning and analyzing the contents of every message sent through its platform.\n"
     ]
    }
   ],
   "source": [
    "print(answer['text'] )"
   ]
  },
  {
   "cell_type": "code",
   "execution_count": null,
   "id": "b3e22384",
   "metadata": {},
   "outputs": [
    {
     "data": {
      "application/vnd.jupyter.widget-view+json": {
       "model_id": "da38c2fb2cea479e889d8147aa675bfc",
       "version_major": 2,
       "version_minor": 0
      },
      "text/plain": [
       "Loading checkpoint shards:   0%|          | 0/2 [00:00<?, ?it/s]"
      ]
     },
     "metadata": {},
     "output_type": "display_data"
    },
    {
     "name": "stderr",
     "output_type": "stream",
     "text": [
      "Setting `pad_token_id` to `eos_token_id`:2 for open-end generation.\n"
     ]
    },
    {
     "name": "stdout",
     "output_type": "stream",
     "text": [
      "[INST] What is eBay’s refund policy? [/INST] eBay's refund policy varies depending on the item and seller, but generally, if you are not satisfied with an item you purchased on eBay, you may be eligible for a refund or exchange. Here are the general steps to follow:\n",
      "\n",
      "1. Contact the seller: First, try to contact the seller to resolve any issues with the item. Many sellers have their own refund or exchange policies, so it's important to check with them first.\n",
      "\n",
      "2. Open a dispute: If you are unable to resolve the issue with the seller, you can open a dispute with eBay. eBay will review the case and determine if a refund or exchange is appropriate.\n",
      "\n",
      "3. Provide evidence: When opening a dispute, be sure to provide evidence to support your claim. This can include photos of the item, a copy of the seller's refund policy, and any other relevant information.\n",
      "\n",
      "4. Wait for a decision: eBay will review your case and make a decision. If your dispute is approved, eBay will process a refund or exchange for you.\n",
      "\n",
      "5. Receive your refund: Once your refund or exchange has been processed, you will receive a notification from eBay. The amount of your refund will be based on the original purchase price, minus any shipping or handling fees.\n",
      "\n",
      "It's important to note that eBay's refund policy can vary depending on the item and seller, so it's"
     ]
    }
   ],
   "source": [
    "from transformers import AutoTokenizer, AutoModelForCausalLM, TextIteratorStreamer, BitsAndBytesConfig\n",
    "import threading\n",
    "import torch\n",
    "# Activate 4-bit precision base model loading\n",
    "use_4bit = True\n",
    "\n",
    "# Compute dtype for 4-bit base models\n",
    "bnb_4bit_compute_dtype = \"float16\"\n",
    "\n",
    "# Quantization type (fp4 or nf4)\n",
    "bnb_4bit_quant_type = \"nf4\"\n",
    "\n",
    "# Activate nested quantization for 4-bit base models (double quantization)\n",
    "use_nested_quant = False\n",
    "\n",
    "compute_dtype = getattr(torch, bnb_4bit_compute_dtype)\n",
    "\n",
    "bnb_config = BitsAndBytesConfig(\n",
    "    load_in_4bit=use_4bit,\n",
    "    bnb_4bit_quant_type=bnb_4bit_quant_type,\n",
    "    bnb_4bit_compute_dtype=compute_dtype,\n",
    "    bnb_4bit_use_double_quant=use_nested_quant,\n",
    ")\n",
    "\n",
    "model_name = \"mistralai/Mistral-7B-Instruct-v0.1\"\n",
    "\n",
    "tokenizer = AutoTokenizer.from_pretrained(model_name)\n",
    "tokenizer.pad_token = tokenizer.eos_token  # Important\n",
    "tokenizer.padding_side = \"right\"\n",
    "\n",
    "model = AutoModelForCausalLM.from_pretrained(\n",
    "    model_name,\n",
    "    device_map=\"auto\",  # Use BitsAndBytes config if quantized\n",
    "    trust_remote_code=True,\n",
    "    quantization_config = bnb_config\n",
    ")\n",
    "\n",
    "# Prepare prompt\n",
    "prompt = \"[INST] What is eBay’s refund policy? [/INST]\"\n",
    "inputs = tokenizer(prompt, return_tensors=\"pt\", padding=True).to(model.device)\n",
    "\n",
    "# Prepare streamer\n",
    "streamer = TextIteratorStreamer(tokenizer, skip_special_tokens=True)\n",
    "\n",
    "# Generation args\n",
    "generate_kwargs = dict(\n",
    "    inputs=inputs.input_ids,\n",
    "    attention_mask=inputs.attention_mask,  \n",
    "    streamer=streamer,\n",
    "    max_new_tokens=300\n",
    ")\n",
    "\n",
    "# Start generation in background thread\n",
    "thread = threading.Thread(target=model.generate, kwargs=generate_kwargs)\n",
    "thread.start()\n",
    "\n",
    "# Stream tokens as they arrive\n",
    "for token in streamer:\n",
    "    print(token, end=\"\", flush=True)\n"
   ]
  },
  {
   "cell_type": "code",
   "execution_count": null,
   "id": "ff0cea3f",
   "metadata": {},
   "outputs": [],
   "source": []
  }
 ],
 "metadata": {
  "kernelspec": {
   "display_name": "amlgolabs",
   "language": "python",
   "name": "python3"
  },
  "language_info": {
   "codemirror_mode": {
    "name": "ipython",
    "version": 3
   },
   "file_extension": ".py",
   "mimetype": "text/x-python",
   "name": "python",
   "nbconvert_exporter": "python",
   "pygments_lexer": "ipython3",
   "version": "3.10.18"
  }
 },
 "nbformat": 4,
 "nbformat_minor": 5
}
